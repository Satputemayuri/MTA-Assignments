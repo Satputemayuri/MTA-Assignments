{
 "cells": [
  {
   "cell_type": "markdown",
   "id": "f8fda526",
   "metadata": {},
   "source": [
    "### 1) which expression evaluates to 4?"
   ]
  },
  {
   "cell_type": "code",
   "execution_count": 2,
   "id": "ac59727e",
   "metadata": {},
   "outputs": [
    {
     "data": {
      "text/plain": [
       "1"
      ]
     },
     "execution_count": 2,
     "metadata": {},
     "output_type": "execute_result"
    }
   ],
   "source": [
    "7-2*3"
   ]
  },
  {
   "cell_type": "code",
   "execution_count": 3,
   "id": "b63ce3cd",
   "metadata": {},
   "outputs": [
    {
     "data": {
      "text/plain": [
       "0"
      ]
     },
     "execution_count": 3,
     "metadata": {},
     "output_type": "execute_result"
    }
   ],
   "source": [
    "7//2-3"
   ]
  },
  {
   "cell_type": "code",
   "execution_count": 4,
   "id": "1fc60d60",
   "metadata": {},
   "outputs": [
    {
     "data": {
      "text/plain": [
       "10.5"
      ]
     },
     "execution_count": 4,
     "metadata": {},
     "output_type": "execute_result"
    }
   ],
   "source": [
    "7/2*3"
   ]
  },
  {
   "cell_type": "code",
   "execution_count": 5,
   "id": "9ed55129",
   "metadata": {},
   "outputs": [
    {
     "data": {
      "text/plain": [
       "4"
      ]
     },
     "execution_count": 5,
     "metadata": {},
     "output_type": "execute_result"
    }
   ],
   "source": [
    "7%2+3"
   ]
  },
  {
   "cell_type": "markdown",
   "id": "614c9b9b",
   "metadata": {},
   "source": [
    "### 3) Consider the code\n",
    "x=3\n",
    "x += 1\n",
    "Which line should be inserted at line 1 so output will be 16"
   ]
  },
  {
   "cell_type": "code",
   "execution_count": 6,
   "id": "4ffbe010",
   "metadata": {},
   "outputs": [],
   "source": [
    "x=3 \n",
    "x += 1"
   ]
  },
  {
   "cell_type": "code",
   "execution_count": 7,
   "id": "525b5f39",
   "metadata": {},
   "outputs": [
    {
     "data": {
      "text/plain": [
       "4"
      ]
     },
     "execution_count": 7,
     "metadata": {},
     "output_type": "execute_result"
    }
   ],
   "source": [
    "x"
   ]
  },
  {
   "cell_type": "code",
   "execution_count": 8,
   "id": "650e2f12",
   "metadata": {},
   "outputs": [],
   "source": [
    "x**=2"
   ]
  },
  {
   "cell_type": "code",
   "execution_count": 9,
   "id": "a9b95f08",
   "metadata": {},
   "outputs": [
    {
     "data": {
      "text/plain": [
       "16"
      ]
     },
     "execution_count": 9,
     "metadata": {},
     "output_type": "execute_result"
    }
   ],
   "source": [
    "x"
   ]
  },
  {
   "cell_type": "code",
   "execution_count": 10,
   "id": "ef09aa8a",
   "metadata": {},
   "outputs": [],
   "source": [
    "x*=2"
   ]
  },
  {
   "cell_type": "code",
   "execution_count": 11,
   "id": "c556ad39",
   "metadata": {},
   "outputs": [
    {
     "data": {
      "text/plain": [
       "32"
      ]
     },
     "execution_count": 11,
     "metadata": {},
     "output_type": "execute_result"
    }
   ],
   "source": [
    "x"
   ]
  },
  {
   "cell_type": "markdown",
   "id": "92189e9e",
   "metadata": {},
   "source": [
    "### 4) Consider the following code\n",
    "print(type(input(\"Enter some value:\")))\n",
    "If we enter 10 and 10.0 individually for every run what is the outpu?\n"
   ]
  },
  {
   "cell_type": "code",
   "execution_count": 12,
   "id": "a0a8c10a",
   "metadata": {},
   "outputs": [
    {
     "name": "stdout",
     "output_type": "stream",
     "text": [
      "Enter some value:10\n",
      "<class 'str'>\n"
     ]
    }
   ],
   "source": [
    "print(type(input(\"Enter some value:\")))"
   ]
  },
  {
   "cell_type": "code",
   "execution_count": 13,
   "id": "fe4034e4",
   "metadata": {},
   "outputs": [
    {
     "name": "stdout",
     "output_type": "stream",
     "text": [
      "Enter some value:10.0\n",
      "<class 'str'>\n"
     ]
    }
   ],
   "source": [
    "print(type(input(\"Enter some value:\")))"
   ]
  },
  {
   "cell_type": "markdown",
   "id": "a27fd0fd",
   "metadata": {},
   "source": [
    "### 5)consider a python code\n",
    "a=['a','b','c','d']\n",
    "for i in a:\n",
    "    a.append(i.upper()):\n",
    "print(a)"
   ]
  },
  {
   "cell_type": "code",
   "execution_count": 15,
   "id": "f57f803b",
   "metadata": {},
   "outputs": [
    {
     "name": "stderr",
     "output_type": "stream",
     "text": [
      "\n",
      "KeyboardInterrupt\n",
      "\n"
     ]
    }
   ],
   "source": [
    "a=['a','b','c','d']\n",
    "for i in a:\n",
    "    a.append(i.upper())\n",
    "print(a)"
   ]
  },
  {
   "cell_type": "markdown",
   "id": "b1e4b031",
   "metadata": {},
   "source": [
    "### 6) Consider the variable declarations\n",
    "a='5'\n",
    "b='2'\n",
    "which of the following expressions are of type str"
   ]
  },
  {
   "cell_type": "code",
   "execution_count": 17,
   "id": "1381c8ac",
   "metadata": {},
   "outputs": [],
   "source": [
    "a='5'\n",
    "b='2'"
   ]
  },
  {
   "cell_type": "code",
   "execution_count": 19,
   "id": "257e9b75",
   "metadata": {},
   "outputs": [
    {
     "data": {
      "text/plain": [
       "str"
      ]
     },
     "execution_count": 19,
     "metadata": {},
     "output_type": "execute_result"
    }
   ],
   "source": [
    "type(a)"
   ]
  },
  {
   "cell_type": "code",
   "execution_count": 20,
   "id": "03c4361c",
   "metadata": {},
   "outputs": [
    {
     "data": {
      "text/plain": [
       "str"
      ]
     },
     "execution_count": 20,
     "metadata": {},
     "output_type": "execute_result"
    }
   ],
   "source": [
    "type(b)"
   ]
  },
  {
   "cell_type": "code",
   "execution_count": 21,
   "id": "2b363dd7",
   "metadata": {},
   "outputs": [
    {
     "ename": "TypeError",
     "evalue": "can't multiply sequence by non-int of type 'str'",
     "output_type": "error",
     "traceback": [
      "\u001b[1;31m---------------------------------------------------------------------------\u001b[0m",
      "\u001b[1;31mTypeError\u001b[0m                                 Traceback (most recent call last)",
      "Input \u001b[1;32mIn [21]\u001b[0m, in \u001b[0;36m<cell line: 1>\u001b[1;34m()\u001b[0m\n\u001b[1;32m----> 1\u001b[0m \u001b[43ma\u001b[49m\u001b[38;5;241;43m*\u001b[39;49m\u001b[43mb\u001b[49m\n",
      "\u001b[1;31mTypeError\u001b[0m: can't multiply sequence by non-int of type 'str'"
     ]
    }
   ],
   "source": [
    "a*b"
   ]
  },
  {
   "cell_type": "code",
   "execution_count": 22,
   "id": "d396d9bc",
   "metadata": {},
   "outputs": [
    {
     "data": {
      "text/plain": [
       "'55'"
      ]
     },
     "execution_count": 22,
     "metadata": {},
     "output_type": "execute_result"
    }
   ],
   "source": [
    "a*2"
   ]
  },
  {
   "cell_type": "code",
   "execution_count": 23,
   "id": "07bdea63",
   "metadata": {},
   "outputs": [
    {
     "data": {
      "text/plain": [
       "'52'"
      ]
     },
     "execution_count": 23,
     "metadata": {},
     "output_type": "execute_result"
    }
   ],
   "source": [
    "a+b"
   ]
  },
  {
   "cell_type": "markdown",
   "id": "811413ca",
   "metadata": {},
   "source": [
    "### 7) Consider the code\n",
    "a=7\n",
    "b=3\n",
    "c=5\n",
    "d=1\n",
    "Which line of the code assigns 9 to the output?"
   ]
  },
  {
   "cell_type": "code",
   "execution_count": 24,
   "id": "0ede8357",
   "metadata": {},
   "outputs": [],
   "source": [
    "a=7\n",
    "b=3\n",
    "c=5\n",
    "d=1"
   ]
  },
  {
   "cell_type": "code",
   "execution_count": 25,
   "id": "b695dcd4",
   "metadata": {},
   "outputs": [],
   "source": [
    "output=a%c+1"
   ]
  },
  {
   "cell_type": "code",
   "execution_count": 26,
   "id": "3b29a653",
   "metadata": {},
   "outputs": [
    {
     "data": {
      "text/plain": [
       "3"
      ]
     },
     "execution_count": 26,
     "metadata": {},
     "output_type": "execute_result"
    }
   ],
   "source": [
    "output"
   ]
  },
  {
   "cell_type": "code",
   "execution_count": 27,
   "id": "c1a3f40e",
   "metadata": {},
   "outputs": [],
   "source": [
    "output=a+d*2"
   ]
  },
  {
   "cell_type": "code",
   "execution_count": 28,
   "id": "7646559d",
   "metadata": {},
   "outputs": [
    {
     "data": {
      "text/plain": [
       "9"
      ]
     },
     "execution_count": 28,
     "metadata": {},
     "output_type": "execute_result"
    }
   ],
   "source": [
    "output"
   ]
  },
  {
   "cell_type": "code",
   "execution_count": 29,
   "id": "be923778",
   "metadata": {},
   "outputs": [],
   "source": [
    "output=a+c//d"
   ]
  },
  {
   "cell_type": "code",
   "execution_count": 30,
   "id": "c8c3e8d3",
   "metadata": {},
   "outputs": [
    {
     "data": {
      "text/plain": [
       "12"
      ]
     },
     "execution_count": 30,
     "metadata": {},
     "output_type": "execute_result"
    }
   ],
   "source": [
    "output"
   ]
  },
  {
   "cell_type": "code",
   "execution_count": 31,
   "id": "0f4a02b5",
   "metadata": {},
   "outputs": [],
   "source": [
    "output=c*d-1"
   ]
  },
  {
   "cell_type": "code",
   "execution_count": 32,
   "id": "34aaa238",
   "metadata": {},
   "outputs": [
    {
     "data": {
      "text/plain": [
       "4"
      ]
     },
     "execution_count": 32,
     "metadata": {},
     "output_type": "execute_result"
    }
   ],
   "source": [
    "output"
   ]
  },
  {
   "cell_type": "markdown",
   "id": "62f69e12",
   "metadata": {},
   "source": [
    "### 8) Consider the following expressions:\n",
    "6//4%5+2**3-2//3\n",
    "this expression results to:\n"
   ]
  },
  {
   "cell_type": "code",
   "execution_count": 33,
   "id": "61d315a4",
   "metadata": {},
   "outputs": [
    {
     "data": {
      "text/plain": [
       "9"
      ]
     },
     "execution_count": 33,
     "metadata": {},
     "output_type": "execute_result"
    }
   ],
   "source": [
    "6//4%5+2**3-2//3"
   ]
  },
  {
   "cell_type": "markdown",
   "id": "168a6832",
   "metadata": {},
   "source": [
    "### 9) x='TEXT'\n",
    "which line of the code assigns TT to the output?"
   ]
  },
  {
   "cell_type": "code",
   "execution_count": 34,
   "id": "766d00b5",
   "metadata": {},
   "outputs": [],
   "source": [
    "x='TEXT'"
   ]
  },
  {
   "cell_type": "code",
   "execution_count": 36,
   "id": "80cc60b0",
   "metadata": {},
   "outputs": [
    {
     "data": {
      "text/plain": [
       "'TT'"
      ]
     },
     "execution_count": 36,
     "metadata": {},
     "output_type": "execute_result"
    }
   ],
   "source": [
    "x[0]+x[3]"
   ]
  },
  {
   "cell_type": "code",
   "execution_count": 37,
   "id": "9384c407",
   "metadata": {},
   "outputs": [],
   "source": [
    "output=x[0]+x[3]"
   ]
  },
  {
   "cell_type": "code",
   "execution_count": 38,
   "id": "73cea1f5",
   "metadata": {},
   "outputs": [
    {
     "data": {
      "text/plain": [
       "'TT'"
      ]
     },
     "execution_count": 38,
     "metadata": {},
     "output_type": "execute_result"
    }
   ],
   "source": [
    "output"
   ]
  },
  {
   "cell_type": "code",
   "execution_count": 39,
   "id": "82bddb50",
   "metadata": {},
   "outputs": [],
   "source": [
    "output=x[0]+x[-1]"
   ]
  },
  {
   "cell_type": "code",
   "execution_count": 40,
   "id": "72d341c2",
   "metadata": {},
   "outputs": [
    {
     "data": {
      "text/plain": [
       "'TT'"
      ]
     },
     "execution_count": 40,
     "metadata": {},
     "output_type": "execute_result"
    }
   ],
   "source": [
    "output"
   ]
  },
  {
   "cell_type": "markdown",
   "id": "9d5392d1",
   "metadata": {},
   "source": [
    "### 10) consider the python code\n",
    "print(10==10 and 20!=20)\n",
    "print(10==10 or 20!=20)\n",
    "print(not 10==10)"
   ]
  },
  {
   "cell_type": "code",
   "execution_count": 41,
   "id": "e71de119",
   "metadata": {},
   "outputs": [
    {
     "name": "stdout",
     "output_type": "stream",
     "text": [
      "False\n",
      "True\n",
      "False\n"
     ]
    }
   ],
   "source": [
    "print(10==10 and 20!=20)\n",
    "print(10==10 or 20!=20)\n",
    "print(not 10==10)"
   ]
  },
  {
   "cell_type": "markdown",
   "id": "35734c27",
   "metadata": {},
   "source": [
    "### 11) Consider the code\n",
    "a=float('123.456')\n",
    "Which expression evaluates 2?"
   ]
  },
  {
   "cell_type": "code",
   "execution_count": 42,
   "id": "316de45f",
   "metadata": {},
   "outputs": [],
   "source": [
    "a=float('123.456')"
   ]
  },
  {
   "cell_type": "code",
   "execution_count": 43,
   "id": "3ba8c009",
   "metadata": {},
   "outputs": [
    {
     "data": {
      "text/plain": [
       "True"
      ]
     },
     "execution_count": 43,
     "metadata": {},
     "output_type": "execute_result"
    }
   ],
   "source": [
    "bool(a)"
   ]
  },
  {
   "cell_type": "code",
   "execution_count": 44,
   "id": "313d214d",
   "metadata": {},
   "outputs": [
    {
     "data": {
      "text/plain": [
       "2"
      ]
     },
     "execution_count": 44,
     "metadata": {},
     "output_type": "execute_result"
    }
   ],
   "source": [
    "bool(a)+True"
   ]
  },
  {
   "cell_type": "markdown",
   "id": "40039f45",
   "metadata": {},
   "source": [
    "### 12) COnsider the python code\n",
    "distance=xxx(input(\"Enter the distance travelled in feet:\"))\n",
    "distance_miles=distance/5280\n",
    "time=yyy(input(\"Enter the time elapsed in seconds:\"))\n",
    "time_hours=time/3600\n",
    "velocity=distance_miles/time_hours\n",
    "print(\"average velocity:\",velocity,\"miles/hr\")"
   ]
  },
  {
   "cell_type": "code",
   "execution_count": 47,
   "id": "da06cd90",
   "metadata": {},
   "outputs": [
    {
     "name": "stdout",
     "output_type": "stream",
     "text": [
      "Enter the distance travelled in feet:360\n",
      "Enter the time elapsed in seconds:420\n",
      "average velocity: 0.5844155844155844 miles/hr\n"
     ]
    }
   ],
   "source": [
    "distance=float(input(\"Enter the distance travelled in feet:\"))\n",
    "distance_miles=distance/5280\n",
    "time=float(input(\"Enter the time elapsed in seconds:\"))\n",
    "time_hours=time/3600\n",
    "velocity=distance_miles/time_hours\n",
    "print(\"average velocity:\",velocity,\"miles/hr\")"
   ]
  },
  {
   "cell_type": "markdown",
   "id": "6291386f",
   "metadata": {},
   "source": [
    "### 13) The XYZ company hires u as an intern on the coding team that creates an e-commerce application.\n",
    "You must write a script that asks user a value.That value must be used as a whole number for calculation,\n",
    "even if the user enters a decimal value."
   ]
  },
  {
   "cell_type": "code",
   "execution_count": 48,
   "id": "767b6572",
   "metadata": {},
   "outputs": [
    {
     "name": "stdout",
     "output_type": "stream",
     "text": [
      "How many items you required?2\n"
     ]
    }
   ],
   "source": [
    "total_items=input(\"How many items you required?\")"
   ]
  },
  {
   "cell_type": "code",
   "execution_count": 49,
   "id": "65654b25",
   "metadata": {},
   "outputs": [
    {
     "name": "stdout",
     "output_type": "stream",
     "text": [
      "How many items you required?2.5\n"
     ]
    }
   ],
   "source": [
    "total_items=int(float(input(\"How many items you required?\")))"
   ]
  },
  {
   "cell_type": "markdown",
   "id": "ada70020",
   "metadata": {},
   "source": [
    "### 14)In which of the following cases True will be printed to the console\n",
    "print('r' in 'durga')\n"
   ]
  },
  {
   "cell_type": "code",
   "execution_count": 51,
   "id": "88be337e",
   "metadata": {},
   "outputs": [
    {
     "name": "stdout",
     "output_type": "stream",
     "text": [
      "True\n"
     ]
    }
   ],
   "source": [
    "print('r' in 'durga')"
   ]
  },
  {
   "cell_type": "code",
   "execution_count": 52,
   "id": "2507546f",
   "metadata": {},
   "outputs": [
    {
     "name": "stdout",
     "output_type": "stream",
     "text": [
      "False\n"
     ]
    }
   ],
   "source": [
    "a=45\n",
    "b=45\n",
    "print(a is not b)"
   ]
  },
  {
   "cell_type": "code",
   "execution_count": 53,
   "id": "03ebdda1",
   "metadata": {},
   "outputs": [
    {
     "name": "stdout",
     "output_type": "stream",
     "text": [
      "False\n"
     ]
    }
   ],
   "source": [
    "s1='The Python course'\n",
    "s2='The Python course'.upper()\n",
    "print(s1 is s2)"
   ]
  },
  {
   "cell_type": "code",
   "execution_count": 54,
   "id": "6f741923",
   "metadata": {},
   "outputs": [
    {
     "name": "stdout",
     "output_type": "stream",
     "text": [
      "True\n"
     ]
    }
   ],
   "source": [
    "print('is' in 'This IS a Fake News')"
   ]
  },
  {
   "cell_type": "code",
   "execution_count": 56,
   "id": "6de3384f",
   "metadata": {},
   "outputs": [
    {
     "name": "stdout",
     "output_type": "stream",
     "text": [
      "False\n"
     ]
    }
   ],
   "source": [
    "x=[1,2,3]\n",
    "y=[1,2,3]\n",
    "print(x is y)"
   ]
  },
  {
   "cell_type": "markdown",
   "id": "e11b4e52",
   "metadata": {},
   "source": [
    "### 15) Consider the python code\n",
    "x=2\n",
    "y=6\n",
    "x+=2**3\n",
    "x//=y//2//3\n",
    "print(x)"
   ]
  },
  {
   "cell_type": "code",
   "execution_count": 58,
   "id": "5705f895",
   "metadata": {},
   "outputs": [
    {
     "name": "stdout",
     "output_type": "stream",
     "text": [
      "10\n"
     ]
    }
   ],
   "source": [
    "x=2\n",
    "y=6\n",
    "x+=2**3\n",
    "x//=y//2//3\n",
    "print(x)"
   ]
  },
  {
   "cell_type": "markdown",
   "id": "5e23118a",
   "metadata": {},
   "source": [
    "### 16) If the user enters 12345 as input, which of the following code will print 12346 to the console?\n"
   ]
  },
  {
   "cell_type": "code",
   "execution_count": 59,
   "id": "a3a4aed6",
   "metadata": {},
   "outputs": [
    {
     "name": "stdout",
     "output_type": "stream",
     "text": [
      "enter the value:12345\n",
      "12346\n"
     ]
    }
   ],
   "source": [
    "count=int(input(\"enter the value:\"))\n",
    "print(count+1)"
   ]
  },
  {
   "cell_type": "code",
   "execution_count": 60,
   "id": "7f6210d7",
   "metadata": {},
   "outputs": [
    {
     "name": "stdout",
     "output_type": "stream",
     "text": [
      "enter the value23456\n",
      "23457\n"
     ]
    }
   ],
   "source": [
    "count=eval(input(\"enter the value\"))\n",
    "print(count+1)"
   ]
  },
  {
   "cell_type": "markdown",
   "id": "6bcec3f0",
   "metadata": {},
   "source": [
    "### 17) COnsider the code\n",
    "t=([10,20],10,False)\n",
    "which of the line code assigns <class 'list' to 'x'"
   ]
  },
  {
   "cell_type": "code",
   "execution_count": 61,
   "id": "78749837",
   "metadata": {},
   "outputs": [],
   "source": [
    "t=([10,20],10,False)"
   ]
  },
  {
   "cell_type": "code",
   "execution_count": 62,
   "id": "54595fa6",
   "metadata": {},
   "outputs": [
    {
     "data": {
      "text/plain": [
       "tuple"
      ]
     },
     "execution_count": 62,
     "metadata": {},
     "output_type": "execute_result"
    }
   ],
   "source": [
    "type(t)"
   ]
  },
  {
   "cell_type": "code",
   "execution_count": 64,
   "id": "022ed3b7",
   "metadata": {},
   "outputs": [
    {
     "data": {
      "text/plain": [
       "[10, 20]"
      ]
     },
     "execution_count": 64,
     "metadata": {},
     "output_type": "execute_result"
    }
   ],
   "source": [
    "t[0]"
   ]
  },
  {
   "cell_type": "code",
   "execution_count": 66,
   "id": "d72a2e9f",
   "metadata": {},
   "outputs": [],
   "source": [
    "x=type(t[0])"
   ]
  },
  {
   "cell_type": "code",
   "execution_count": 67,
   "id": "9ee90113",
   "metadata": {},
   "outputs": [
    {
     "data": {
      "text/plain": [
       "list"
      ]
     },
     "execution_count": 67,
     "metadata": {},
     "output_type": "execute_result"
    }
   ],
   "source": [
    "x"
   ]
  },
  {
   "cell_type": "markdown",
   "id": "88909f2c",
   "metadata": {},
   "source": [
    "### 18)Which expression evaluates to 2?"
   ]
  },
  {
   "cell_type": "code",
   "execution_count": 68,
   "id": "61c50cfc",
   "metadata": {},
   "outputs": [
    {
     "data": {
      "text/plain": [
       "5"
      ]
     },
     "execution_count": 68,
     "metadata": {},
     "output_type": "execute_result"
    }
   ],
   "source": [
    "11//2"
   ]
  },
  {
   "cell_type": "code",
   "execution_count": 69,
   "id": "15b9cb47",
   "metadata": {},
   "outputs": [
    {
     "data": {
      "text/plain": [
       "2"
      ]
     },
     "execution_count": 69,
     "metadata": {},
     "output_type": "execute_result"
    }
   ],
   "source": [
    "22%5"
   ]
  },
  {
   "cell_type": "code",
   "execution_count": 70,
   "id": "56088f1a",
   "metadata": {},
   "outputs": [
    {
     "data": {
      "text/plain": [
       "3"
      ]
     },
     "execution_count": 70,
     "metadata": {},
     "output_type": "execute_result"
    }
   ],
   "source": [
    "13//4"
   ]
  },
  {
   "cell_type": "code",
   "execution_count": 71,
   "id": "7572e4eb",
   "metadata": {},
   "outputs": [
    {
     "data": {
      "text/plain": [
       "9"
      ]
     },
     "execution_count": 71,
     "metadata": {},
     "output_type": "execute_result"
    }
   ],
   "source": [
    "3**2"
   ]
  },
  {
   "cell_type": "markdown",
   "id": "e27458b5",
   "metadata": {},
   "source": [
    "### 19) Consider the code\n",
    "x=3/3+3**3-3\n",
    "What is the output?"
   ]
  },
  {
   "cell_type": "code",
   "execution_count": 73,
   "id": "311b9c54",
   "metadata": {},
   "outputs": [],
   "source": [
    "x=3/3+3**3-3"
   ]
  },
  {
   "cell_type": "code",
   "execution_count": 74,
   "id": "462fe2e3",
   "metadata": {},
   "outputs": [
    {
     "data": {
      "text/plain": [
       "25.0"
      ]
     },
     "execution_count": 74,
     "metadata": {},
     "output_type": "execute_result"
    }
   ],
   "source": [
    "x"
   ]
  },
  {
   "cell_type": "markdown",
   "id": "84522834",
   "metadata": {},
   "source": [
    "### 20) Consider the python code\n",
    "result=str(bool(1) + float(10/float(2)))\n",
    "print(result)"
   ]
  },
  {
   "cell_type": "code",
   "execution_count": 75,
   "id": "1069105b",
   "metadata": {},
   "outputs": [],
   "source": [
    "result=str(bool(1) + float(10)/float(2))"
   ]
  },
  {
   "cell_type": "code",
   "execution_count": 76,
   "id": "4035f779",
   "metadata": {},
   "outputs": [
    {
     "data": {
      "text/plain": [
       "'6.0'"
      ]
     },
     "execution_count": 76,
     "metadata": {},
     "output_type": "execute_result"
    }
   ],
   "source": [
    "result"
   ]
  },
  {
   "cell_type": "markdown",
   "id": "062ab51f",
   "metadata": {},
   "source": [
    "### 21)nYou developed a python application for your company. You required to accept input from the user and\n",
    "print that information to the user screen\n",
    "Consider the code:\n",
    "    print(\"Enter your name:\")\n",
    "    //line 1\n",
    "    print(name)\n",
    "    at line 1 which code we have to write?"
   ]
  },
  {
   "cell_type": "code",
   "execution_count": 79,
   "id": "84d8ea54",
   "metadata": {},
   "outputs": [
    {
     "name": "stdout",
     "output_type": "stream",
     "text": [
      "Enter your name:\n",
      "<bound method Kernel.raw_input of <ipykernel.ipkernel.IPythonKernel object at 0x000001E94FE52E80>>\n"
     ]
    }
   ],
   "source": [
    "print(\"Enter your name:\")\n",
    "name=input\n",
    "print(name)"
   ]
  },
  {
   "cell_type": "code",
   "execution_count": 80,
   "id": "197a4d2a",
   "metadata": {},
   "outputs": [
    {
     "name": "stdout",
     "output_type": "stream",
     "text": [
      "Enter your name:\n",
      "mayuri\n",
      "mayuri\n"
     ]
    }
   ],
   "source": [
    "print(\"Enter your name:\")\n",
    "name=input()\n",
    "print(name)"
   ]
  },
  {
   "cell_type": "markdown",
   "id": "984f3cb3",
   "metadata": {},
   "source": [
    "### 22) Consider the code\n",
    "print(not 0)\n",
    "print(not 10)\n",
    "print(not '')\n",
    "print(not 'durga')\n",
    "print(not None)"
   ]
  },
  {
   "cell_type": "code",
   "execution_count": 82,
   "id": "b89330b9",
   "metadata": {},
   "outputs": [
    {
     "name": "stdout",
     "output_type": "stream",
     "text": [
      "True\n",
      "False\n",
      "True\n",
      "False\n",
      "True\n"
     ]
    }
   ],
   "source": [
    "print(not 0)\n",
    "print(not 10)\n",
    "print(not '')\n",
    "print(not 'durga')\n",
    "print(not None)"
   ]
  },
  {
   "cell_type": "markdown",
   "id": "4e0d462a",
   "metadata": {},
   "source": [
    "### 23)Consider the python code\n",
    "l1=['sunny','bunny','chinny','vinny']\n",
    "l2=['sunny','bunny','chinny','vinny']\n",
    "print(l1 is not l2)\n",
    "print(l1 != l2)\n",
    "l1=l2\n",
    "print(l1 is not l2)\n",
    "print(l1 != l2)"
   ]
  },
  {
   "cell_type": "code",
   "execution_count": 83,
   "id": "8bfb0d3a",
   "metadata": {},
   "outputs": [
    {
     "name": "stdout",
     "output_type": "stream",
     "text": [
      "True\n",
      "False\n",
      "False\n",
      "False\n"
     ]
    }
   ],
   "source": [
    "l1=['sunny','bunny','chinny','vinny']\n",
    "l2=['sunny','bunny','chinny','vinny']\n",
    "print(l1 is not l2)\n",
    "print(l1 != l2)\n",
    "l1=l2\n",
    "print(l1 is not l2)\n",
    "print(l1 != l2)"
   ]
  },
  {
   "cell_type": "markdown",
   "id": "12cca072",
   "metadata": {},
   "source": [
    "### 24) In which of the following cases we will get <class 'int>' as output?"
   ]
  },
  {
   "cell_type": "code",
   "execution_count": 84,
   "id": "ee0812ec",
   "metadata": {},
   "outputs": [
    {
     "name": "stdout",
     "output_type": "stream",
     "text": [
      "<class 'int'>\n"
     ]
    }
   ],
   "source": [
    "x=2**2**2\n",
    "print(type(x))"
   ]
  },
  {
   "cell_type": "code",
   "execution_count": 85,
   "id": "c254d725",
   "metadata": {},
   "outputs": [
    {
     "data": {
      "text/plain": [
       "16"
      ]
     },
     "execution_count": 85,
     "metadata": {},
     "output_type": "execute_result"
    }
   ],
   "source": [
    "x"
   ]
  },
  {
   "cell_type": "code",
   "execution_count": 86,
   "id": "fdf24cb1",
   "metadata": {},
   "outputs": [
    {
     "name": "stdout",
     "output_type": "stream",
     "text": [
      "<class 'str'>\n"
     ]
    }
   ],
   "source": [
    "x='47'\n",
    "print(type(x))"
   ]
  },
  {
   "cell_type": "markdown",
   "id": "c9d0462e",
   "metadata": {},
   "source": [
    "### 25) Consider the code\n",
    "s='DURGA SOFT'\n",
    "which of the following lines will assign 9 to variable result?"
   ]
  },
  {
   "cell_type": "code",
   "execution_count": 87,
   "id": "4ba7a4ac",
   "metadata": {},
   "outputs": [],
   "source": [
    "s='DURGA SOFT'"
   ]
  },
  {
   "cell_type": "code",
   "execution_count": 89,
   "id": "05415c96",
   "metadata": {},
   "outputs": [],
   "source": [
    "result=len(s)"
   ]
  },
  {
   "cell_type": "code",
   "execution_count": 90,
   "id": "e9e4a218",
   "metadata": {},
   "outputs": [
    {
     "data": {
      "text/plain": [
       "10"
      ]
     },
     "execution_count": 90,
     "metadata": {},
     "output_type": "execute_result"
    }
   ],
   "source": [
    "result"
   ]
  },
  {
   "cell_type": "code",
   "execution_count": 91,
   "id": "bccd74d7",
   "metadata": {},
   "outputs": [],
   "source": [
    "result=len(s.replace(' ',''))"
   ]
  },
  {
   "cell_type": "code",
   "execution_count": 92,
   "id": "f4b3629a",
   "metadata": {},
   "outputs": [
    {
     "data": {
      "text/plain": [
       "9"
      ]
     },
     "execution_count": 92,
     "metadata": {},
     "output_type": "execute_result"
    }
   ],
   "source": [
    "result"
   ]
  },
  {
   "cell_type": "markdown",
   "id": "4de24dee",
   "metadata": {},
   "source": [
    "### 26) Consider the variable declaration\n",
    "b= 'BANANA'\n",
    "which of the following lines will print AA to the console?"
   ]
  },
  {
   "cell_type": "code",
   "execution_count": 93,
   "id": "f0ec2b4c",
   "metadata": {},
   "outputs": [],
   "source": [
    "b= 'BANANA'"
   ]
  },
  {
   "cell_type": "code",
   "execution_count": 94,
   "id": "393e052a",
   "metadata": {},
   "outputs": [
    {
     "data": {
      "text/plain": [
       "'BANANA'"
      ]
     },
     "execution_count": 94,
     "metadata": {},
     "output_type": "execute_result"
    }
   ],
   "source": [
    "b"
   ]
  },
  {
   "cell_type": "code",
   "execution_count": 95,
   "id": "b93ed7ba",
   "metadata": {},
   "outputs": [
    {
     "data": {
      "text/plain": [
       "str"
      ]
     },
     "execution_count": 95,
     "metadata": {},
     "output_type": "execute_result"
    }
   ],
   "source": [
    "type(b)"
   ]
  },
  {
   "cell_type": "code",
   "execution_count": 96,
   "id": "16c89e68",
   "metadata": {},
   "outputs": [],
   "source": [
    "res=b[1]+b[-1]"
   ]
  },
  {
   "cell_type": "code",
   "execution_count": 97,
   "id": "c89c58b8",
   "metadata": {},
   "outputs": [
    {
     "data": {
      "text/plain": [
       "'AA'"
      ]
     },
     "execution_count": 97,
     "metadata": {},
     "output_type": "execute_result"
    }
   ],
   "source": [
    "res"
   ]
  },
  {
   "cell_type": "code",
   "execution_count": 98,
   "id": "f98b140d",
   "metadata": {},
   "outputs": [],
   "source": [
    "res1=b[3]+b[-1]"
   ]
  },
  {
   "cell_type": "code",
   "execution_count": 99,
   "id": "5ff52c99",
   "metadata": {},
   "outputs": [
    {
     "data": {
      "text/plain": [
       "'AA'"
      ]
     },
     "execution_count": 99,
     "metadata": {},
     "output_type": "execute_result"
    }
   ],
   "source": [
    "res1"
   ]
  },
  {
   "cell_type": "markdown",
   "id": "065e038a",
   "metadata": {},
   "source": [
    "### 27)Consider the python code\n",
    "l1=['sunny','bunny','chinny','vinny']\n",
    "l2=['sunny','bunny','chinny','vinny']\n",
    "print(l1 is  l2)\n",
    "print(l1 == l2)\n",
    "l1=l2\n",
    "print(l1 is l2)\n",
    "print(l1 == l2)"
   ]
  },
  {
   "cell_type": "code",
   "execution_count": 100,
   "id": "872b91be",
   "metadata": {},
   "outputs": [
    {
     "name": "stdout",
     "output_type": "stream",
     "text": [
      "False\n",
      "True\n",
      "True\n",
      "True\n"
     ]
    }
   ],
   "source": [
    "l1=['sunny','bunny','chinny','vinny']\n",
    "l2=['sunny','bunny','chinny','vinny']\n",
    "print(l1 is  l2)\n",
    "print(l1 == l2)\n",
    "l1=l2\n",
    "print(l1 is l2)\n",
    "print(l1 == l2)"
   ]
  },
  {
   "cell_type": "code",
   "execution_count": 101,
   "id": "f05110a6",
   "metadata": {},
   "outputs": [
    {
     "name": "stdout",
     "output_type": "stream",
     "text": [
      "0\n"
     ]
    }
   ],
   "source": [
    "### 28) Consider the following code\n",
    "v1=1\n",
    "v2=0\n",
    "v1=v1 ^ v2\n",
    "v2=v1 ^ v2\n",
    "v1=v1 ^ v2\n",
    "print(v1)"
   ]
  },
  {
   "cell_type": "markdown",
   "id": "c6c15990",
   "metadata": {},
   "source": [
    "### 28) Consider the code\n",
    "count=input(\"Enter the number of customers of the bank\")\n",
    "#line 1\n",
    "print(output)\n",
    "which code inserted at line 1 will print 20 to the console if we pass 15 as count value from the console"
   ]
  },
  {
   "cell_type": "code",
   "execution_count": 102,
   "id": "946c55cf",
   "metadata": {},
   "outputs": [
    {
     "name": "stdout",
     "output_type": "stream",
     "text": [
      "Enter the number of customers of the bank15\n",
      "20\n"
     ]
    }
   ],
   "source": [
    "count=input(\"Enter the number of customers of the bank\")\n",
    "output=int(count)+5\n",
    "print(output)"
   ]
  },
  {
   "cell_type": "markdown",
   "id": "91a724bc",
   "metadata": {},
   "source": [
    "### 29) consider the code\n",
    "x='10'\n",
    "y='20'\n",
    "the type of x+y?"
   ]
  },
  {
   "cell_type": "code",
   "execution_count": 103,
   "id": "a9218802",
   "metadata": {},
   "outputs": [],
   "source": [
    "x='10'\n",
    "y='20'"
   ]
  },
  {
   "cell_type": "code",
   "execution_count": 104,
   "id": "c0f6eb28",
   "metadata": {},
   "outputs": [
    {
     "data": {
      "text/plain": [
       "'1020'"
      ]
     },
     "execution_count": 104,
     "metadata": {},
     "output_type": "execute_result"
    }
   ],
   "source": [
    "x+y"
   ]
  },
  {
   "cell_type": "code",
   "execution_count": 105,
   "id": "49ae6dc1",
   "metadata": {},
   "outputs": [
    {
     "data": {
      "text/plain": [
       "str"
      ]
     },
     "execution_count": 105,
     "metadata": {},
     "output_type": "execute_result"
    }
   ],
   "source": [
    "type(x+y)"
   ]
  },
  {
   "cell_type": "markdown",
   "id": "b9a9b0d8",
   "metadata": {},
   "source": [
    "### 30) which of the following string declarations spans more than one line and considers white space properly\n",
    "when the string is printed to the console?"
   ]
  },
  {
   "cell_type": "code",
   "execution_count": 106,
   "id": "522bf310",
   "metadata": {},
   "outputs": [
    {
     "ename": "SyntaxError",
     "evalue": "EOL while scanning string literal (1702300952.py, line 1)",
     "output_type": "error",
     "traceback": [
      "\u001b[1;36m  Input \u001b[1;32mIn [106]\u001b[1;36m\u001b[0m\n\u001b[1;33m    s1='Bharat\\n\u001b[0m\n\u001b[1;37m                ^\u001b[0m\n\u001b[1;31mSyntaxError\u001b[0m\u001b[1;31m:\u001b[0m EOL while scanning string literal\n"
     ]
    }
   ],
   "source": [
    "s1='Bharat\\n\n",
    "        software\\n\n",
    "        solutions'"
   ]
  },
  {
   "cell_type": "code",
   "execution_count": 107,
   "id": "2d35ed51",
   "metadata": {},
   "outputs": [
    {
     "ename": "SyntaxError",
     "evalue": "invalid syntax (2564146465.py, line 1)",
     "output_type": "error",
     "traceback": [
      "\u001b[1;36m  Input \u001b[1;32mIn [107]\u001b[1;36m\u001b[0m\n\u001b[1;33m    s1=\"\"Bharat\u001b[0m\n\u001b[1;37m         ^\u001b[0m\n\u001b[1;31mSyntaxError\u001b[0m\u001b[1;31m:\u001b[0m invalid syntax\n"
     ]
    }
   ],
   "source": [
    "s1=\"\"Bharat\n",
    "        software\n",
    "        solutions\"\""
   ]
  },
  {
   "cell_type": "code",
   "execution_count": 108,
   "id": "d7d6739d",
   "metadata": {},
   "outputs": [
    {
     "ename": "SyntaxError",
     "evalue": "EOL while scanning string literal (3393361842.py, line 1)",
     "output_type": "error",
     "traceback": [
      "\u001b[1;36m  Input \u001b[1;32mIn [108]\u001b[1;36m\u001b[0m\n\u001b[1;33m    s1='Bharat\u001b[0m\n\u001b[1;37m              ^\u001b[0m\n\u001b[1;31mSyntaxError\u001b[0m\u001b[1;31m:\u001b[0m EOL while scanning string literal\n"
     ]
    }
   ],
   "source": [
    "s1='Bharat\n",
    "        software\n",
    "        solutions'"
   ]
  },
  {
   "cell_type": "code",
   "execution_count": 110,
   "id": "b265fe79",
   "metadata": {},
   "outputs": [
    {
     "ename": "SyntaxError",
     "evalue": "EOL while scanning string literal (1512164416.py, line 1)",
     "output_type": "error",
     "traceback": [
      "\u001b[1;36m  Input \u001b[1;32mIn [110]\u001b[1;36m\u001b[0m\n\u001b[1;33m    s1=\"'Bharat\u001b[0m\n\u001b[1;37m               ^\u001b[0m\n\u001b[1;31mSyntaxError\u001b[0m\u001b[1;31m:\u001b[0m EOL while scanning string literal\n"
     ]
    }
   ],
   "source": [
    "s1=\"'Bharat\n",
    "        software\n",
    "        solutions\"'"
   ]
  },
  {
   "cell_type": "markdown",
   "id": "6eb8b454",
   "metadata": {},
   "source": [
    "### 31) Consider the code\n",
    "lst=[7,8,9]\n",
    "b=lst[:]\n",
    "print(b is lst)\n",
    "print(b==lst)"
   ]
  },
  {
   "cell_type": "code",
   "execution_count": 111,
   "id": "5eb00411",
   "metadata": {},
   "outputs": [
    {
     "name": "stdout",
     "output_type": "stream",
     "text": [
      "False\n",
      "True\n"
     ]
    }
   ],
   "source": [
    "lst=[7,8,9]\n",
    "b=lst[:]\n",
    "print(b is lst)\n",
    "print(b==lst)"
   ]
  },
  {
   "cell_type": "code",
   "execution_count": 112,
   "id": "f0029c3a",
   "metadata": {},
   "outputs": [
    {
     "data": {
      "text/plain": [
       "[7, 8, 9]"
      ]
     },
     "execution_count": 112,
     "metadata": {},
     "output_type": "execute_result"
    }
   ],
   "source": [
    "b"
   ]
  },
  {
   "cell_type": "markdown",
   "id": "934b9613",
   "metadata": {},
   "source": [
    "### 32) We are developing an app in which students provide a colleg name and city as an input. \n",
    "If the students provide college name as BHARATSOFT and city as Pune, then our application has to provide following greeting \n",
    "message.\n",
    "Welcome to BHARATSOFT in Pune"
   ]
  },
  {
   "cell_type": "code",
   "execution_count": null,
   "id": "5c26b9f9",
   "metadata": {},
   "outputs": [],
   "source": [
    "coll_name=input(\"enter the college name:\")\n",
    "city=input(\"Enter the city:\")\n",
    "print('Welcome to' +str(coll_name)+ 'in' +str(city))"
   ]
  },
  {
   "cell_type": "code",
   "execution_count": 17,
   "id": "884fddd3",
   "metadata": {},
   "outputs": [
    {
     "name": "stdout",
     "output_type": "stream",
     "text": [
      "enter the college name:BHARATSOFT\n",
      "Enter the city:Pune\n",
      "Welcome to BHARATSOFT in Pune\n"
     ]
    }
   ],
   "source": [
    "coll_name=input(\"enter the college name:\")\n",
    "city=input(\"Enter the city:\")\n",
    "print('Welcome to ' +str(coll_name)+ ' in ' +str(city))"
   ]
  },
  {
   "cell_type": "code",
   "execution_count": null,
   "id": "90b321ba",
   "metadata": {},
   "outputs": [],
   "source": [
    "coll_name=input(\"enter the college name:\")\n",
    "city=input(\"Enter the city:\")\n",
    "print('Welcome to {} in {} '.format(coll_name,city))"
   ]
  },
  {
   "cell_type": "code",
   "execution_count": 23,
   "id": "bc16d72a",
   "metadata": {},
   "outputs": [
    {
     "name": "stdout",
     "output_type": "stream",
     "text": [
      "enter the college name:BHARATSOFT\n",
      "Enter the city:Pune\n",
      "Welcome to BHARATSOFT in Pune \n"
     ]
    }
   ],
   "source": [
    "coll_name=input(\"enter the college name:\")\n",
    "city=input(\"Enter the city:\")\n",
    "print('Welcome to {} in {} '.format(coll_name,city))"
   ]
  },
  {
   "cell_type": "code",
   "execution_count": null,
   "id": "46647674",
   "metadata": {},
   "outputs": [],
   "source": []
  }
 ],
 "metadata": {
  "kernelspec": {
   "display_name": "Python 3 (ipykernel)",
   "language": "python",
   "name": "python3"
  },
  "language_info": {
   "codemirror_mode": {
    "name": "ipython",
    "version": 3
   },
   "file_extension": ".py",
   "mimetype": "text/x-python",
   "name": "python",
   "nbconvert_exporter": "python",
   "pygments_lexer": "ipython3",
   "version": "3.9.12"
  }
 },
 "nbformat": 4,
 "nbformat_minor": 5
}
