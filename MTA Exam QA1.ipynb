{
 "cells": [
  {
   "cell_type": "markdown",
   "id": "954dd61d",
   "metadata": {},
   "source": [
    "1 x=8\n",
    "y=10\n",
    "result=x//3*3/2+y%2**2\n",
    "print(result)\n",
    "what is the result?"
   ]
  },
  {
   "cell_type": "code",
   "execution_count": 28,
   "id": "e0757227",
   "metadata": {},
   "outputs": [
    {
     "name": "stdout",
     "output_type": "stream",
     "text": [
      "5.0\n"
     ]
    }
   ],
   "source": [
    "x=8\n",
    "y=10\n",
    "result=x//3*3/2+y%2**2\n",
    "print(result)"
   ]
  },
  {
   "cell_type": "code",
   "execution_count": 2,
   "id": "f9272f9a",
   "metadata": {},
   "outputs": [
    {
     "data": {
      "text/plain": [
       "5.0"
      ]
     },
     "execution_count": 2,
     "metadata": {},
     "output_type": "execute_result"
    }
   ],
   "source": [
    "result"
   ]
  },
  {
   "cell_type": "markdown",
   "id": "f4d1402a",
   "metadata": {},
   "source": [
    "### 2) Consider the code\n",
    "start=input(\"How old were you at the time of Joining?\")\n",
    "end=input(\"How old are you today\")\n",
    "which of the following code is valid to print Congratulations message?"
   ]
  },
  {
   "cell_type": "code",
   "execution_count": 3,
   "id": "d502e8b8",
   "metadata": {},
   "outputs": [
    {
     "name": "stdout",
     "output_type": "stream",
     "text": [
      "How old were you at the time of Joining?30\n",
      "How old are you today35\n"
     ]
    }
   ],
   "source": [
    "start=input(\"How old were you at the time of Joining?\")\n",
    "end=input(\"How old are you today\")"
   ]
  },
  {
   "cell_type": "code",
   "execution_count": 5,
   "id": "9f3b96e2",
   "metadata": {},
   "outputs": [
    {
     "name": "stdout",
     "output_type": "stream",
     "text": [
      "Congratulations (int(end)-int(start)) years of your service\n"
     ]
    }
   ],
   "source": [
    "print('Congratulations (int(end)-int(start)) years of your service')"
   ]
  },
  {
   "cell_type": "code",
   "execution_count": 9,
   "id": "2adbb607",
   "metadata": {},
   "outputs": [
    {
     "name": "stdout",
     "output_type": "stream",
     "text": [
      "How old were you at the time of Joining?30\n",
      "How old are you today35\n",
      "Congratulations 5 years of your service\n"
     ]
    }
   ],
   "source": [
    "start=input(\"How old were you at the time of Joining?\")\n",
    "end=input(\"How old are you today\")\n",
    "print('Congratulations '+str(int(end)-int(start))+' years of your service')"
   ]
  },
  {
   "cell_type": "markdown",
   "id": "e6090923",
   "metadata": {},
   "source": [
    "### 3)Consider the code\n",
    "x='ACROTE'\n",
    "y='APPLE'\n",
    "z='TOMATO'\n",
    "which of the following won't print 'CAT' to the console\n",
    "a)print(x[2]+y[1]+z[1])\n",
    "b)print(x[-5]+y[0]+z[-2])\n",
    "c)print(x[1]+y[0]+z[0])\n",
    "d)print(x[-5]+y[0]+z[0])"
   ]
  },
  {
   "cell_type": "code",
   "execution_count": 12,
   "id": "0a3608e3",
   "metadata": {},
   "outputs": [],
   "source": [
    "x='ACROTE'\n",
    "y='APPLE'\n",
    "z='TOMATO'"
   ]
  },
  {
   "cell_type": "code",
   "execution_count": 14,
   "id": "15389239",
   "metadata": {},
   "outputs": [
    {
     "name": "stdout",
     "output_type": "stream",
     "text": [
      "RPO\n"
     ]
    }
   ],
   "source": [
    "print(x[2]+y[1]+z[1])\n"
   ]
  },
  {
   "cell_type": "markdown",
   "id": "73f75df6",
   "metadata": {},
   "source": [
    "## 4)Consider the code\n",
    "x= 'Durga'\n",
    "y= 'Durga'\n",
    "condition= x is y\n",
    "result=condition\n",
    "print(result)"
   ]
  },
  {
   "cell_type": "code",
   "execution_count": 30,
   "id": "a0adecd2",
   "metadata": {},
   "outputs": [
    {
     "name": "stdout",
     "output_type": "stream",
     "text": [
      "True\n"
     ]
    }
   ],
   "source": [
    "x= 'Durga'\n",
    "y= 'Durga'\n",
    "result=condition\n",
    "print(result)"
   ]
  },
  {
   "cell_type": "code",
   "execution_count": 31,
   "id": "62a4847b",
   "metadata": {},
   "outputs": [
    {
     "name": "stdout",
     "output_type": "stream",
     "text": [
      "False\n"
     ]
    }
   ],
   "source": [
    "x= 'Durga'\n",
    "y= 'Durga'\n",
    "condition=x<y\n",
    "result=condition\n",
    "print(result)"
   ]
  },
  {
   "cell_type": "code",
   "execution_count": 32,
   "id": "dfaee307",
   "metadata": {},
   "outputs": [
    {
     "name": "stdout",
     "output_type": "stream",
     "text": [
      "True\n"
     ]
    }
   ],
   "source": [
    "x= 'Durga'\n",
    "y= 'Durga'\n",
    "condition=x is y\n",
    "result=condition\n",
    "print(result)"
   ]
  },
  {
   "cell_type": "markdown",
   "id": "fe72d55a",
   "metadata": {},
   "source": [
    "# "
   ]
  },
  {
   "cell_type": "markdown",
   "id": "e2de66c9",
   "metadata": {},
   "source": [
    "### 5)consider the code segments"
   ]
  },
  {
   "cell_type": "code",
   "execution_count": 17,
   "id": "6d3fcbda",
   "metadata": {},
   "outputs": [],
   "source": [
    "a1='10'\n",
    "b1=3\n",
    "c1=a1*b1"
   ]
  },
  {
   "cell_type": "code",
   "execution_count": 18,
   "id": "0b975a76",
   "metadata": {},
   "outputs": [
    {
     "data": {
      "text/plain": [
       "'101010'"
      ]
     },
     "execution_count": 18,
     "metadata": {},
     "output_type": "execute_result"
    }
   ],
   "source": [
    "c1"
   ]
  },
  {
   "cell_type": "code",
   "execution_count": 33,
   "id": "9ac76aba",
   "metadata": {},
   "outputs": [
    {
     "data": {
      "text/plain": [
       "str"
      ]
     },
     "execution_count": 33,
     "metadata": {},
     "output_type": "execute_result"
    }
   ],
   "source": [
    "type(c1)"
   ]
  },
  {
   "cell_type": "code",
   "execution_count": 19,
   "id": "b4c55c45",
   "metadata": {},
   "outputs": [],
   "source": [
    "a2=10\n",
    "b2=3\n",
    "c2=a2/b2"
   ]
  },
  {
   "cell_type": "code",
   "execution_count": 34,
   "id": "551875ed",
   "metadata": {},
   "outputs": [
    {
     "data": {
      "text/plain": [
       "float"
      ]
     },
     "execution_count": 34,
     "metadata": {},
     "output_type": "execute_result"
    }
   ],
   "source": [
    "type(c2)"
   ]
  },
  {
   "cell_type": "code",
   "execution_count": 21,
   "id": "fc30c1a0",
   "metadata": {},
   "outputs": [],
   "source": [
    "a3=2.6\n",
    "b3=1\n",
    "c3=a3/b3"
   ]
  },
  {
   "cell_type": "code",
   "execution_count": 35,
   "id": "dea396ae",
   "metadata": {},
   "outputs": [
    {
     "data": {
      "text/plain": [
       "float"
      ]
     },
     "execution_count": 35,
     "metadata": {},
     "output_type": "execute_result"
    }
   ],
   "source": [
    "type(c3)"
   ]
  },
  {
   "cell_type": "markdown",
   "id": "dd1a595d",
   "metadata": {},
   "source": [
    "### 6)In which of the following cases we will get the same result\n",
    "13//4\n",
    "11/3\n",
    "3**1\n",
    "23%5"
   ]
  },
  {
   "cell_type": "code",
   "execution_count": 36,
   "id": "97568151",
   "metadata": {},
   "outputs": [
    {
     "data": {
      "text/plain": [
       "3"
      ]
     },
     "execution_count": 36,
     "metadata": {},
     "output_type": "execute_result"
    }
   ],
   "source": [
    "13//4"
   ]
  },
  {
   "cell_type": "code",
   "execution_count": 37,
   "id": "4b00c36d",
   "metadata": {},
   "outputs": [
    {
     "data": {
      "text/plain": [
       "3.6666666666666665"
      ]
     },
     "execution_count": 37,
     "metadata": {},
     "output_type": "execute_result"
    }
   ],
   "source": [
    "11/3"
   ]
  },
  {
   "cell_type": "code",
   "execution_count": 38,
   "id": "d33b2418",
   "metadata": {},
   "outputs": [
    {
     "data": {
      "text/plain": [
       "3"
      ]
     },
     "execution_count": 38,
     "metadata": {},
     "output_type": "execute_result"
    }
   ],
   "source": [
    "3**1"
   ]
  },
  {
   "cell_type": "code",
   "execution_count": 39,
   "id": "35fc5de3",
   "metadata": {},
   "outputs": [
    {
     "data": {
      "text/plain": [
       "3"
      ]
     },
     "execution_count": 39,
     "metadata": {},
     "output_type": "execute_result"
    }
   ],
   "source": [
    "23%5"
   ]
  },
  {
   "cell_type": "markdown",
   "id": "bc488a72",
   "metadata": {},
   "source": [
    "## 7) Consider the following lists:\n",
    "n1=['10',','30','40','50']\n",
    "n2=['10','20','30','40','50']\n",
    "print(n1 is n2)\n",
    "print(n1 == n2)"
   ]
  },
  {
   "cell_type": "code",
   "execution_count": 23,
   "id": "007aba18",
   "metadata": {},
   "outputs": [
    {
     "name": "stdout",
     "output_type": "stream",
     "text": [
      "False\n",
      "True\n"
     ]
    }
   ],
   "source": [
    "n1=['10','20','30','40','50']\n",
    "n2=['10','20','30','40','50']\n",
    "print(n1 is n2)\n",
    "print(n1 == n2)"
   ]
  },
  {
   "cell_type": "markdown",
   "id": "18d33694",
   "metadata": {},
   "source": [
    "## 8) Consider the python Code\n",
    "a=1\n",
    "b=3\n",
    "c=5\n",
    "d=7"
   ]
  },
  {
   "cell_type": "code",
   "execution_count": 24,
   "id": "c0834d31",
   "metadata": {},
   "outputs": [],
   "source": [
    "a=1\n",
    "b=3\n",
    "c=5\n",
    "d=7"
   ]
  },
  {
   "cell_type": "code",
   "execution_count": 40,
   "id": "840d44cf",
   "metadata": {},
   "outputs": [
    {
     "data": {
      "text/plain": [
       "1"
      ]
     },
     "execution_count": 40,
     "metadata": {},
     "output_type": "execute_result"
    }
   ],
   "source": [
    "a-b//d"
   ]
  },
  {
   "cell_type": "code",
   "execution_count": 41,
   "id": "eb8efcf7",
   "metadata": {},
   "outputs": [
    {
     "data": {
      "text/plain": [
       "0"
      ]
     },
     "execution_count": 41,
     "metadata": {},
     "output_type": "execute_result"
    }
   ],
   "source": [
    "a**d-1"
   ]
  },
  {
   "cell_type": "code",
   "execution_count": 42,
   "id": "20d53207",
   "metadata": {},
   "outputs": [
    {
     "data": {
      "text/plain": [
       "7"
      ]
     },
     "execution_count": 42,
     "metadata": {},
     "output_type": "execute_result"
    }
   ],
   "source": [
    "a+b*2"
   ]
  },
  {
   "cell_type": "code",
   "execution_count": 43,
   "id": "b82a0617",
   "metadata": {},
   "outputs": [
    {
     "data": {
      "text/plain": [
       "0"
      ]
     },
     "execution_count": 43,
     "metadata": {},
     "output_type": "execute_result"
    }
   ],
   "source": [
    "a%b-1"
   ]
  },
  {
   "cell_type": "markdown",
   "id": "5d13545f",
   "metadata": {},
   "source": [
    "## 9) Consider the code\n",
    "s= 'AB CD'\n",
    "list=list(s)\n",
    "list.append('EF')\n",
    "print(list)\n"
   ]
  },
  {
   "cell_type": "code",
   "execution_count": 1,
   "id": "8f857d13",
   "metadata": {},
   "outputs": [
    {
     "name": "stdout",
     "output_type": "stream",
     "text": [
      "['A', 'B', ' ', 'C', 'D', 'EF']\n"
     ]
    }
   ],
   "source": [
    "a= 'AB CD'\n",
    "list=list(a)\n",
    "list.append('EF')\n",
    "print(list)\n"
   ]
  },
  {
   "cell_type": "code",
   "execution_count": 55,
   "id": "8355133f",
   "metadata": {},
   "outputs": [
    {
     "data": {
      "text/plain": [
       "['A', 'B', ' ', 'C', 'D', 'EF']"
      ]
     },
     "execution_count": 55,
     "metadata": {},
     "output_type": "execute_result"
    }
   ],
   "source": [
    "list"
   ]
  },
  {
   "cell_type": "markdown",
   "id": "25284807",
   "metadata": {},
   "source": [
    "## 10 Consider the python code \n",
    "a=5\n",
    "b=10\n",
    "c=2\n",
    "d=True\n",
    "\n",
    "x=a+b*c\n",
    "y=a+b/d\n",
    "\n",
    "if(condition):\n",
    "    print(\"valid\")\n",
    "else:\n",
    "    print(\"invalid\")"
   ]
  },
  {
   "cell_type": "code",
   "execution_count": 2,
   "id": "037320a1",
   "metadata": {},
   "outputs": [
    {
     "name": "stdout",
     "output_type": "stream",
     "text": [
      "invalid\n"
     ]
    }
   ],
   "source": [
    "a=5\n",
    "b=10\n",
    "c=2\n",
    "d=True\n",
    "\n",
    "x=a+b*c\n",
    "y=a+b/d\n",
    "\n",
    "if(x<=y):\n",
    "    print(\"valid\")\n",
    "else:\n",
    "    print(\"invalid\")"
   ]
  },
  {
   "cell_type": "code",
   "execution_count": 3,
   "id": "a4f6586e",
   "metadata": {},
   "outputs": [
    {
     "name": "stdout",
     "output_type": "stream",
     "text": [
      "valid\n"
     ]
    }
   ],
   "source": [
    "a=5\n",
    "b=10\n",
    "c=2\n",
    "d=True\n",
    "\n",
    "x=a+b*c\n",
    "y=a+b/d\n",
    "\n",
    "if(x>y):\n",
    "    print(\"valid\")\n",
    "else:\n",
    "    print(\"invalid\")"
   ]
  },
  {
   "cell_type": "markdown",
   "id": "bc607890",
   "metadata": {},
   "source": [
    "## 11 You are writing a python program to read two int values  from the keyboard and print sum\n",
    "x=input(\"Enter the first number\")\n",
    "y=input(\"Enter the second number\")"
   ]
  },
  {
   "cell_type": "code",
   "execution_count": 7,
   "id": "5199fc36",
   "metadata": {},
   "outputs": [
    {
     "name": "stdout",
     "output_type": "stream",
     "text": [
      "Enter the first number4\n",
      "Enter the second number5\n",
      "the result is:+str(int(x)+int(y))+\n"
     ]
    }
   ],
   "source": [
    "x=input(\"Enter the first number\")\n",
    "y=input(\"Enter the second number\")\n",
    "print(\"the result is: '+str(int(x)+ int(y))+'  like\")"
   ]
  },
  {
   "cell_type": "code",
   "execution_count": 14,
   "id": "5ca6c14e",
   "metadata": {},
   "outputs": [
    {
     "name": "stdout",
     "output_type": "stream",
     "text": [
      "Enter the first number8\n",
      "Enter the second number5\n",
      "the result is:13\n"
     ]
    }
   ],
   "source": [
    "x=input(\"Enter the first number\")\n",
    "y=input(\"Enter the second number\")\n",
    "print('the result is:' +str(int(x)+int(y)))"
   ]
  },
  {
   "cell_type": "markdown",
   "id": "b85b8ae1",
   "metadata": {},
   "source": [
    "## 12 consider the python code \n",
    "weight=62.4\n",
    "zip='80098'\n",
    "value=+23E4"
   ]
  },
  {
   "cell_type": "code",
   "execution_count": 15,
   "id": "4e220106",
   "metadata": {},
   "outputs": [],
   "source": [
    "weight=62.4\n",
    "zip='80098'\n",
    "value=+23E4"
   ]
  },
  {
   "cell_type": "code",
   "execution_count": 16,
   "id": "07422c6c",
   "metadata": {},
   "outputs": [
    {
     "data": {
      "text/plain": [
       "float"
      ]
     },
     "execution_count": 16,
     "metadata": {},
     "output_type": "execute_result"
    }
   ],
   "source": [
    "type(weight)"
   ]
  },
  {
   "cell_type": "code",
   "execution_count": 17,
   "id": "bfe23885",
   "metadata": {},
   "outputs": [
    {
     "data": {
      "text/plain": [
       "str"
      ]
     },
     "execution_count": 17,
     "metadata": {},
     "output_type": "execute_result"
    }
   ],
   "source": [
    "type(zip)"
   ]
  },
  {
   "cell_type": "code",
   "execution_count": 18,
   "id": "b7eeced7",
   "metadata": {},
   "outputs": [
    {
     "data": {
      "text/plain": [
       "float"
      ]
     },
     "execution_count": 18,
     "metadata": {},
     "output_type": "execute_result"
    }
   ],
   "source": [
    "type(value)"
   ]
  },
  {
   "cell_type": "markdown",
   "id": "7c48aa5a",
   "metadata": {},
   "source": [
    "## 14 You are writing a python program. You are required to handle data types properly.\n",
    "cosider the code segment:\n",
    "    a=10+20\n",
    "    b='10'+'20'\n",
    "    c='10'*3"
   ]
  },
  {
   "cell_type": "code",
   "execution_count": 20,
   "id": "c793af8b",
   "metadata": {},
   "outputs": [],
   "source": [
    "a=10+20\n",
    "b='10'+'20'\n",
    "c='10'*3"
   ]
  },
  {
   "cell_type": "code",
   "execution_count": 21,
   "id": "128eab1f",
   "metadata": {},
   "outputs": [
    {
     "data": {
      "text/plain": [
       "30"
      ]
     },
     "execution_count": 21,
     "metadata": {},
     "output_type": "execute_result"
    }
   ],
   "source": [
    "a"
   ]
  },
  {
   "cell_type": "code",
   "execution_count": 22,
   "id": "d672d9b5",
   "metadata": {},
   "outputs": [
    {
     "data": {
      "text/plain": [
       "int"
      ]
     },
     "execution_count": 22,
     "metadata": {},
     "output_type": "execute_result"
    }
   ],
   "source": [
    "type(a)"
   ]
  },
  {
   "cell_type": "code",
   "execution_count": 23,
   "id": "4af965de",
   "metadata": {},
   "outputs": [
    {
     "data": {
      "text/plain": [
       "'1020'"
      ]
     },
     "execution_count": 23,
     "metadata": {},
     "output_type": "execute_result"
    }
   ],
   "source": [
    "b"
   ]
  },
  {
   "cell_type": "code",
   "execution_count": 24,
   "id": "66dcc82a",
   "metadata": {},
   "outputs": [
    {
     "data": {
      "text/plain": [
       "str"
      ]
     },
     "execution_count": 24,
     "metadata": {},
     "output_type": "execute_result"
    }
   ],
   "source": [
    "type(b)"
   ]
  },
  {
   "cell_type": "code",
   "execution_count": 25,
   "id": "1580bce6",
   "metadata": {},
   "outputs": [
    {
     "data": {
      "text/plain": [
       "'101010'"
      ]
     },
     "execution_count": 25,
     "metadata": {},
     "output_type": "execute_result"
    }
   ],
   "source": [
    "c"
   ]
  },
  {
   "cell_type": "code",
   "execution_count": 26,
   "id": "302c99c2",
   "metadata": {},
   "outputs": [
    {
     "data": {
      "text/plain": [
       "str"
      ]
     },
     "execution_count": 26,
     "metadata": {},
     "output_type": "execute_result"
    }
   ],
   "source": [
    "type(c)"
   ]
  },
  {
   "cell_type": "markdown",
   "id": "ea6c24d1",
   "metadata": {},
   "source": [
    "## 15 You have the following code\n",
    "a=bool([False])\n",
    "b=bool(3)\n",
    "c=bool(\"\")\n",
    "d=bool(' ')"
   ]
  },
  {
   "cell_type": "code",
   "execution_count": 27,
   "id": "cd07d344",
   "metadata": {},
   "outputs": [],
   "source": [
    "a=bool([False])\n",
    "b=bool(3)\n",
    "c=bool(\"\")\n",
    "d=bool(' ')"
   ]
  },
  {
   "cell_type": "code",
   "execution_count": 28,
   "id": "e76e8dd9",
   "metadata": {},
   "outputs": [
    {
     "data": {
      "text/plain": [
       "True"
      ]
     },
     "execution_count": 28,
     "metadata": {},
     "output_type": "execute_result"
    }
   ],
   "source": [
    "a"
   ]
  },
  {
   "cell_type": "code",
   "execution_count": 29,
   "id": "cf9a7663",
   "metadata": {},
   "outputs": [
    {
     "data": {
      "text/plain": [
       "True"
      ]
     },
     "execution_count": 29,
     "metadata": {},
     "output_type": "execute_result"
    }
   ],
   "source": [
    "b"
   ]
  },
  {
   "cell_type": "code",
   "execution_count": 30,
   "id": "c2207f21",
   "metadata": {},
   "outputs": [
    {
     "data": {
      "text/plain": [
       "False"
      ]
     },
     "execution_count": 30,
     "metadata": {},
     "output_type": "execute_result"
    }
   ],
   "source": [
    "c"
   ]
  },
  {
   "cell_type": "code",
   "execution_count": 31,
   "id": "1f453b3f",
   "metadata": {},
   "outputs": [
    {
     "data": {
      "text/plain": [
       "True"
      ]
     },
     "execution_count": 31,
     "metadata": {},
     "output_type": "execute_result"
    }
   ],
   "source": [
    "d"
   ]
  },
  {
   "cell_type": "markdown",
   "id": "b389f316",
   "metadata": {},
   "source": [
    "## 16 Consider the following expressions\n",
    "result=(2*(3+4)**2-(3**3)*3)\n",
    "what is the result value?"
   ]
  },
  {
   "cell_type": "code",
   "execution_count": 32,
   "id": "59b4bd46",
   "metadata": {},
   "outputs": [],
   "source": [
    "result=(2*(3+4)**2-(3**3)*3)"
   ]
  },
  {
   "cell_type": "code",
   "execution_count": 33,
   "id": "fe781105",
   "metadata": {},
   "outputs": [
    {
     "data": {
      "text/plain": [
       "17"
      ]
     },
     "execution_count": 33,
     "metadata": {},
     "output_type": "execute_result"
    }
   ],
   "source": [
    "result"
   ]
  },
  {
   "cell_type": "markdown",
   "id": "53d73a92",
   "metadata": {},
   "source": [
    "## 17 consider the code\n",
    "a=2\n",
    "a += 1"
   ]
  },
  {
   "cell_type": "code",
   "execution_count": 1,
   "id": "7d3ced2d",
   "metadata": {},
   "outputs": [],
   "source": [
    "a=2\n",
    "a += 1"
   ]
  },
  {
   "cell_type": "code",
   "execution_count": 4,
   "id": "a5166c08",
   "metadata": {},
   "outputs": [],
   "source": [
    "a**=2\n",
    "a += 1"
   ]
  },
  {
   "cell_type": "markdown",
   "id": "84028964",
   "metadata": {},
   "source": [
    " ## 18 which  variable represents true\n",
    "a=bool(0)\n",
    "b=bool(3)\n",
    "c=bool(0.5)\n",
    "d=bool(0.0)"
   ]
  },
  {
   "cell_type": "code",
   "execution_count": 7,
   "id": "33618863",
   "metadata": {},
   "outputs": [],
   "source": [
    "a=bool(0)\n",
    "b=bool(3)\n",
    "c=bool(0.5)\n",
    "d=bool(0.0)"
   ]
  },
  {
   "cell_type": "code",
   "execution_count": 8,
   "id": "0cc5917f",
   "metadata": {},
   "outputs": [
    {
     "data": {
      "text/plain": [
       "False"
      ]
     },
     "execution_count": 8,
     "metadata": {},
     "output_type": "execute_result"
    }
   ],
   "source": [
    "a"
   ]
  },
  {
   "cell_type": "code",
   "execution_count": 9,
   "id": "243b8ea6",
   "metadata": {},
   "outputs": [
    {
     "data": {
      "text/plain": [
       "True"
      ]
     },
     "execution_count": 9,
     "metadata": {},
     "output_type": "execute_result"
    }
   ],
   "source": [
    "b"
   ]
  },
  {
   "cell_type": "code",
   "execution_count": 10,
   "id": "50e0a052",
   "metadata": {},
   "outputs": [
    {
     "data": {
      "text/plain": [
       "True"
      ]
     },
     "execution_count": 10,
     "metadata": {},
     "output_type": "execute_result"
    }
   ],
   "source": [
    "c"
   ]
  },
  {
   "cell_type": "code",
   "execution_count": 11,
   "id": "fcaadcf2",
   "metadata": {},
   "outputs": [
    {
     "data": {
      "text/plain": [
       "False"
      ]
     },
     "execution_count": 11,
     "metadata": {},
     "output_type": "execute_result"
    }
   ],
   "source": [
    "d"
   ]
  },
  {
   "cell_type": "markdown",
   "id": "9a2da4fd",
   "metadata": {},
   "source": [
    "## 19 consider the code\n",
    "a=26\n",
    "b=6\n",
    "print(a/b)\n",
    "print(a//b)\n",
    "print(a%b)\n"
   ]
  },
  {
   "cell_type": "code",
   "execution_count": 12,
   "id": "96183a75",
   "metadata": {},
   "outputs": [],
   "source": [
    "a=26\n",
    "b=6"
   ]
  },
  {
   "cell_type": "code",
   "execution_count": 13,
   "id": "6bdaf7b3",
   "metadata": {},
   "outputs": [
    {
     "name": "stdout",
     "output_type": "stream",
     "text": [
      "4.333333333333333\n"
     ]
    }
   ],
   "source": [
    "print(a/b)"
   ]
  },
  {
   "cell_type": "code",
   "execution_count": 14,
   "id": "59bfa867",
   "metadata": {},
   "outputs": [
    {
     "name": "stdout",
     "output_type": "stream",
     "text": [
      "4\n"
     ]
    }
   ],
   "source": [
    "print(a//b)"
   ]
  },
  {
   "cell_type": "code",
   "execution_count": 15,
   "id": "72f8fbc2",
   "metadata": {},
   "outputs": [
    {
     "name": "stdout",
     "output_type": "stream",
     "text": [
      "2\n"
     ]
    }
   ],
   "source": [
    "print(a%b)"
   ]
  },
  {
   "cell_type": "markdown",
   "id": "2a69c63d",
   "metadata": {},
   "source": [
    "## 20 \n",
    "subjects=['java','python','sap']\n",
    "more_subjects=['java','python','sap']\n",
    "extra_subjects=more_subjects"
   ]
  },
  {
   "cell_type": "code",
   "execution_count": 17,
   "id": "7cbe3d57",
   "metadata": {},
   "outputs": [],
   "source": [
    "subjects=['java','python','sap']\n",
    "more_subjects=['java','python','sap']\n",
    "extra_subjects=more_subjects"
   ]
  },
  {
   "cell_type": "code",
   "execution_count": 18,
   "id": "3953b152",
   "metadata": {},
   "outputs": [
    {
     "name": "stdout",
     "output_type": "stream",
     "text": [
      "True\n"
     ]
    }
   ],
   "source": [
    "print(extra_subjects is more_subjects)"
   ]
  },
  {
   "cell_type": "code",
   "execution_count": 19,
   "id": "5ef39f6c",
   "metadata": {},
   "outputs": [
    {
     "name": "stdout",
     "output_type": "stream",
     "text": [
      "False\n"
     ]
    }
   ],
   "source": [
    "print(subjects is more_subjects)"
   ]
  },
  {
   "cell_type": "code",
   "execution_count": 20,
   "id": "a9c9ba7c",
   "metadata": {},
   "outputs": [
    {
     "name": "stdout",
     "output_type": "stream",
     "text": [
      "False\n"
     ]
    }
   ],
   "source": [
    "print(subjects is extra_subjects)"
   ]
  },
  {
   "cell_type": "code",
   "execution_count": 21,
   "id": "1af72439",
   "metadata": {},
   "outputs": [
    {
     "name": "stdout",
     "output_type": "stream",
     "text": [
      "True\n"
     ]
    }
   ],
   "source": [
    "print(subjects==extra_subjects)"
   ]
  },
  {
   "cell_type": "code",
   "execution_count": 25,
   "id": "108ac7e7",
   "metadata": {},
   "outputs": [
    {
     "name": "stdout",
     "output_type": "stream",
     "text": [
      "False\n",
      "False\n",
      "True\n",
      "True\n"
     ]
    }
   ],
   "source": [
    "## 21 consider the lists\n",
    "numbers=[10,20,30,40,50]\n",
    "alphabets=['a','b','c','d','e']\n",
    "print(numbers is alphabets)\n",
    "print(numbers == alphabets)\n",
    "numbers=alphabets\n",
    "print(numbers is alphabets)\n",
    "print(numbers == alphabets)"
   ]
  },
  {
   "cell_type": "code",
   "execution_count": 32,
   "id": "3c9d5c22",
   "metadata": {},
   "outputs": [],
   "source": [
    "## 22 consider the code\n",
    "age=0\n",
    "minor=False\n",
    "name='Durga'"
   ]
  },
  {
   "cell_type": "code",
   "execution_count": 29,
   "id": "badab5f7",
   "metadata": {},
   "outputs": [
    {
     "data": {
      "text/plain": [
       "int"
      ]
     },
     "execution_count": 29,
     "metadata": {},
     "output_type": "execute_result"
    }
   ],
   "source": [
    "type(age)\n"
   ]
  },
  {
   "cell_type": "code",
   "execution_count": 33,
   "id": "adf3f03c",
   "metadata": {},
   "outputs": [
    {
     "data": {
      "text/plain": [
       "bool"
      ]
     },
     "execution_count": 33,
     "metadata": {},
     "output_type": "execute_result"
    }
   ],
   "source": [
    "type(minor)"
   ]
  },
  {
   "cell_type": "code",
   "execution_count": 31,
   "id": "b261154b",
   "metadata": {},
   "outputs": [
    {
     "data": {
      "text/plain": [
       "str"
      ]
     },
     "execution_count": 31,
     "metadata": {},
     "output_type": "execute_result"
    }
   ],
   "source": [
    "type(name)"
   ]
  },
  {
   "cell_type": "markdown",
   "id": "30e5d822",
   "metadata": {},
   "source": [
    "## 22 which of the following expression generate a max value\n"
   ]
  },
  {
   "cell_type": "code",
   "execution_count": 34,
   "id": "cfb1b3e8",
   "metadata": {},
   "outputs": [
    {
     "data": {
      "text/plain": [
       "8"
      ]
     },
     "execution_count": 34,
     "metadata": {},
     "output_type": "execute_result"
    }
   ],
   "source": [
    "8//3*4"
   ]
  },
  {
   "cell_type": "code",
   "execution_count": 35,
   "id": "78ca3ebc",
   "metadata": {},
   "outputs": [
    {
     "data": {
      "text/plain": [
       "0.5"
      ]
     },
     "execution_count": 35,
     "metadata": {},
     "output_type": "execute_result"
    }
   ],
   "source": [
    "8%3/4"
   ]
  },
  {
   "cell_type": "code",
   "execution_count": 36,
   "id": "fdc74439",
   "metadata": {},
   "outputs": [
    {
     "data": {
      "text/plain": [
       "10.666666666666666"
      ]
     },
     "execution_count": 36,
     "metadata": {},
     "output_type": "execute_result"
    }
   ],
   "source": [
    "8/3*4"
   ]
  },
  {
   "cell_type": "code",
   "execution_count": 37,
   "id": "1e1daaad",
   "metadata": {},
   "outputs": [
    {
     "data": {
      "text/plain": [
       "-4"
      ]
     },
     "execution_count": 37,
     "metadata": {},
     "output_type": "execute_result"
    }
   ],
   "source": [
    "8-3*4"
   ]
  },
  {
   "cell_type": "markdown",
   "id": "abc7579b",
   "metadata": {},
   "source": [
    "## 23 consider the code\n",
    "list=['Apple','Banana','carrot','Mango']\n"
   ]
  },
  {
   "cell_type": "code",
   "execution_count": 38,
   "id": "7a9f1ce0",
   "metadata": {},
   "outputs": [],
   "source": [
    "list=['Apple','Banana','carrot','Mango']"
   ]
  },
  {
   "cell_type": "code",
   "execution_count": 39,
   "id": "88d2f16d",
   "metadata": {},
   "outputs": [
    {
     "data": {
      "text/plain": [
       "['Apple', 'Banana', 'carrot', 'Mango']"
      ]
     },
     "execution_count": 39,
     "metadata": {},
     "output_type": "execute_result"
    }
   ],
   "source": [
    "list"
   ]
  },
  {
   "cell_type": "code",
   "execution_count": 40,
   "id": "df7372b4",
   "metadata": {},
   "outputs": [
    {
     "data": {
      "text/plain": [
       "list"
      ]
     },
     "execution_count": 40,
     "metadata": {},
     "output_type": "execute_result"
    }
   ],
   "source": [
    "type(list)"
   ]
  },
  {
   "cell_type": "code",
   "execution_count": 41,
   "id": "6b41eb59",
   "metadata": {},
   "outputs": [
    {
     "data": {
      "text/plain": [
       "'Mango'"
      ]
     },
     "execution_count": 41,
     "metadata": {},
     "output_type": "execute_result"
    }
   ],
   "source": [
    "list[3]"
   ]
  },
  {
   "cell_type": "code",
   "execution_count": 42,
   "id": "654dfd8a",
   "metadata": {},
   "outputs": [
    {
     "data": {
      "text/plain": [
       "'Mango'"
      ]
     },
     "execution_count": 42,
     "metadata": {},
     "output_type": "execute_result"
    }
   ],
   "source": [
    "list[-1]"
   ]
  },
  {
   "cell_type": "markdown",
   "id": "6fbcc526",
   "metadata": {},
   "source": [
    "## 24 which of the following code will print\n",
    "Boy\n",
    "Cat\n",
    "Dog"
   ]
  },
  {
   "cell_type": "code",
   "execution_count": 43,
   "id": "00d2fdf6",
   "metadata": {},
   "outputs": [
    {
     "name": "stdout",
     "output_type": "stream",
     "text": [
      "Apple\n",
      "Boy\n",
      "Cat\n",
      "Dog\n"
     ]
    }
   ],
   "source": [
    "l=['Apple','Boy','Cat','Dog']\n",
    "for i in l:\n",
    "    print(i)"
   ]
  },
  {
   "cell_type": "code",
   "execution_count": 47,
   "id": "7851e777",
   "metadata": {},
   "outputs": [
    {
     "name": "stdout",
     "output_type": "stream",
     "text": [
      "Boy\n",
      "Cat\n",
      "Dog\n"
     ]
    }
   ],
   "source": [
    "l=['Apple','Boy','Cat','Dog']\n",
    "for i in l:\n",
    "    if len(i)==3:\n",
    "        print(i)"
   ]
  },
  {
   "cell_type": "code",
   "execution_count": 48,
   "id": "811251c4",
   "metadata": {},
   "outputs": [
    {
     "name": "stdout",
     "output_type": "stream",
     "text": [
      "Boy\n",
      "Cat\n",
      "Dog\n"
     ]
    }
   ],
   "source": [
    "l=['Apple','Boy','Cat','Dog']\n",
    "ll=l[1:]\n",
    "for i in ll:\n",
    "    print(i)"
   ]
  },
  {
   "cell_type": "markdown",
   "id": "cbcb156f",
   "metadata": {},
   "source": [
    "## 25 Consider the code\n",
    "a=15\n",
    "b=5\n",
    "print(a/b)"
   ]
  },
  {
   "cell_type": "code",
   "execution_count": 49,
   "id": "feef772a",
   "metadata": {},
   "outputs": [
    {
     "name": "stdout",
     "output_type": "stream",
     "text": [
      "3.0\n"
     ]
    }
   ],
   "source": [
    "a=15\n",
    "b=5\n",
    "print(a/b)"
   ]
  },
  {
   "cell_type": "markdown",
   "id": "463eec72",
   "metadata": {},
   "source": [
    "## 26 Consider the code\n",
    "a=1\n",
    "b=2\n",
    "c=4\n",
    "d=6\n",
    "Which  of  the following expression results -4?\n"
   ]
  },
  {
   "cell_type": "code",
   "execution_count": 50,
   "id": "35f0eed1",
   "metadata": {},
   "outputs": [],
   "source": [
    "a=1\n",
    "b=2\n",
    "c=4\n",
    "d=6"
   ]
  },
  {
   "cell_type": "code",
   "execution_count": 51,
   "id": "d07a2ce3",
   "metadata": {},
   "outputs": [
    {
     "data": {
      "text/plain": [
       "0"
      ]
     },
     "execution_count": 51,
     "metadata": {},
     "output_type": "execute_result"
    }
   ],
   "source": [
    "(a+b)//c*d"
   ]
  },
  {
   "cell_type": "code",
   "execution_count": 52,
   "id": "f3ca32a3",
   "metadata": {},
   "outputs": [
    {
     "data": {
      "text/plain": [
       "0"
      ]
     },
     "execution_count": 52,
     "metadata": {},
     "output_type": "execute_result"
    }
   ],
   "source": [
    "(b+c)//a%d"
   ]
  },
  {
   "cell_type": "code",
   "execution_count": 53,
   "id": "d7f95f6b",
   "metadata": {},
   "outputs": [
    {
     "data": {
      "text/plain": [
       "0"
      ]
     },
     "execution_count": 53,
     "metadata": {},
     "output_type": "execute_result"
    }
   ],
   "source": [
    "(a+b)//c%d"
   ]
  },
  {
   "cell_type": "code",
   "execution_count": 55,
   "id": "818f16ed",
   "metadata": {},
   "outputs": [
    {
     "data": {
      "text/plain": [
       "-4"
      ]
     },
     "execution_count": 55,
     "metadata": {},
     "output_type": "execute_result"
    }
   ],
   "source": [
    "(a+b)//d-c"
   ]
  },
  {
   "cell_type": "markdown",
   "id": "6cddbdd1",
   "metadata": {},
   "source": [
    "## 25 Consider the code\n",
    "s='Python is easy'\n",
    "s1=s[-7:]\n",
    "s2=s[-4:]\n",
    "print(s1+s2)"
   ]
  },
  {
   "cell_type": "code",
   "execution_count": 57,
   "id": "83c8729c",
   "metadata": {},
   "outputs": [
    {
     "name": "stdout",
     "output_type": "stream",
     "text": [
      "is easyeasy\n"
     ]
    }
   ],
   "source": [
    "s='Python is easy'\n",
    "s1=s[-7:]\n",
    "s2=s[-4:]\n",
    "print(s1+s2)"
   ]
  },
  {
   "cell_type": "markdown",
   "id": "d90ecfa9",
   "metadata": {},
   "source": [
    "## 26 consider the following expression\n",
    "result =8//6%5+2**3-2"
   ]
  },
  {
   "cell_type": "code",
   "execution_count": 58,
   "id": "85bdeb49",
   "metadata": {},
   "outputs": [],
   "source": [
    "result =8//6%5+2**3-2"
   ]
  },
  {
   "cell_type": "code",
   "execution_count": 59,
   "id": "4288cd52",
   "metadata": {},
   "outputs": [
    {
     "data": {
      "text/plain": [
       "7"
      ]
     },
     "execution_count": 59,
     "metadata": {},
     "output_type": "execute_result"
    }
   ],
   "source": [
    "result"
   ]
  },
  {
   "cell_type": "markdown",
   "id": "77327b33",
   "metadata": {},
   "source": [
    "## 27 You have the following code\n",
    "a=3\n",
    "b=5\n",
    "a += 2**3\n",
    "a -=b//2//3\n",
    "print(a)"
   ]
  },
  {
   "cell_type": "code",
   "execution_count": 60,
   "id": "73e3d54a",
   "metadata": {},
   "outputs": [
    {
     "name": "stdout",
     "output_type": "stream",
     "text": [
      "11\n"
     ]
    }
   ],
   "source": [
    "a=3\n",
    "b=5\n",
    "a += 2**3\n",
    "a -=b//2//3\n",
    "print(a)"
   ]
  },
  {
   "cell_type": "code",
   "execution_count": 61,
   "id": "e594671f",
   "metadata": {},
   "outputs": [],
   "source": [
    "## 28 consider the following variable declaration\n",
    "a= bool([])\n",
    "b= bool(())\n",
    "c= bool(range(0))\n",
    "d= bool({})\n",
    "e= bool(set())\n"
   ]
  },
  {
   "cell_type": "code",
   "execution_count": 62,
   "id": "9b843f63",
   "metadata": {},
   "outputs": [
    {
     "data": {
      "text/plain": [
       "False"
      ]
     },
     "execution_count": 62,
     "metadata": {},
     "output_type": "execute_result"
    }
   ],
   "source": [
    "a"
   ]
  },
  {
   "cell_type": "code",
   "execution_count": 65,
   "id": "b906e1c1",
   "metadata": {},
   "outputs": [
    {
     "data": {
      "text/plain": [
       "False"
      ]
     },
     "execution_count": 65,
     "metadata": {},
     "output_type": "execute_result"
    }
   ],
   "source": [
    "b"
   ]
  },
  {
   "cell_type": "code",
   "execution_count": 66,
   "id": "19e3b322",
   "metadata": {},
   "outputs": [
    {
     "data": {
      "text/plain": [
       "False"
      ]
     },
     "execution_count": 66,
     "metadata": {},
     "output_type": "execute_result"
    }
   ],
   "source": [
    "c"
   ]
  },
  {
   "cell_type": "code",
   "execution_count": 67,
   "id": "0cc086ba",
   "metadata": {},
   "outputs": [
    {
     "data": {
      "text/plain": [
       "False"
      ]
     },
     "execution_count": 67,
     "metadata": {},
     "output_type": "execute_result"
    }
   ],
   "source": [
    "d"
   ]
  },
  {
   "cell_type": "code",
   "execution_count": 68,
   "id": "e2a3733b",
   "metadata": {},
   "outputs": [
    {
     "data": {
      "text/plain": [
       "False"
      ]
     },
     "execution_count": 68,
     "metadata": {},
     "output_type": "execute_result"
    }
   ],
   "source": [
    "e"
   ]
  },
  {
   "cell_type": "code",
   "execution_count": 69,
   "id": "4315fbbb",
   "metadata": {},
   "outputs": [],
   "source": [
    "## 29 consider the following code\n",
    "numbers=[10,20,30,40]\n",
    "x=0"
   ]
  },
  {
   "cell_type": "code",
   "execution_count": 70,
   "id": "f842fa88",
   "metadata": {},
   "outputs": [
    {
     "data": {
      "text/plain": [
       "[10, 20, 30, 40]"
      ]
     },
     "execution_count": 70,
     "metadata": {},
     "output_type": "execute_result"
    }
   ],
   "source": [
    "numbers"
   ]
  },
  {
   "cell_type": "code",
   "execution_count": 77,
   "id": "1b82736a",
   "metadata": {},
   "outputs": [
    {
     "name": "stdout",
     "output_type": "stream",
     "text": [
      "20\n"
     ]
    }
   ],
   "source": [
    "numbers=[10,20,30,40]\n",
    "x=0\n",
    "for i in numbers:\n",
    "    if i in numbers:\n",
    "        x=x+5\n",
    "print(x)"
   ]
  },
  {
   "cell_type": "code",
   "execution_count": null,
   "id": "72c4365e",
   "metadata": {},
   "outputs": [],
   "source": []
  },
  {
   "cell_type": "code",
   "execution_count": null,
   "id": "ff652658",
   "metadata": {},
   "outputs": [],
   "source": []
  }
 ],
 "metadata": {
  "kernelspec": {
   "display_name": "Python 3 (ipykernel)",
   "language": "python",
   "name": "python3"
  },
  "language_info": {
   "codemirror_mode": {
    "name": "ipython",
    "version": 3
   },
   "file_extension": ".py",
   "mimetype": "text/x-python",
   "name": "python",
   "nbconvert_exporter": "python",
   "pygments_lexer": "ipython3",
   "version": "3.9.12"
  }
 },
 "nbformat": 4,
 "nbformat_minor": 5
}
