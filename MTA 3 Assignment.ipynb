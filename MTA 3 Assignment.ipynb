{
 "cells": [
  {
   "cell_type": "markdown",
   "id": "17cfb0fc",
   "metadata": {},
   "source": [
    "## 1) The XYZ organics comapny needs a simple program that their call center will use to enter survey data for a new coffee variety\n",
    "The program must accept input and enter a average rating based on five-star scale.The output\n",
    "must be rounded to two decimal places.\n",
    "consider the code\n",
    "sum=count=done=0\n",
    "average=0.0\n",
    "while(done!=0)\n",
    "    rating=float(input(\"enter next rating(1-5),-1 for done\"))\n",
    "        if rating==-1\n",
    "            break\n",
    "        sum+=rating\n",
    "        count+=1\n",
    "    average=float(sum/count)\n",
    "    ##line 1\n",
    "    which of the following print() statement should be placed at line 1 to meet requirement?"
   ]
  },
  {
   "cell_type": "code",
   "execution_count": 20,
   "id": "299dbb5f",
   "metadata": {},
   "outputs": [
    {
     "name": "stdout",
     "output_type": "stream",
     "text": [
      "enter next rating(1-5),-1 for done4\n",
      "enter next rating(1-5),-1 for done-1\n",
      "The everage star for the new coffee is:4.00\n"
     ]
    }
   ],
   "source": [
    "sum=count=done=0\n",
    "average=0.0\n",
    "while(done!=-1):\n",
    "    rating=float(input(\"enter next rating(1-5),-1 for done\"))\n",
    "    if rating==-1:\n",
    "        break\n",
    "    sum+=rating\n",
    "    count+=1\n",
    "average=float(sum/count)\n",
    "print(\"The everage star for the new coffee is:{:.2f}\".format(average))"
   ]
  },
  {
   "cell_type": "markdown",
   "id": "bed1f245",
   "metadata": {},
   "source": [
    "### 2) Consider the following statements\n",
    "1. print('V:{:.2f}'.format(123.45678)) will print to the console V:123.46\n",
    "2. print('V:{:.2f}'.format(123.4)) will print to the console V:123.40\n",
    "3. print('V:{:8.2f}'.format(1.45678)) will print to the console V: 1.46\n",
    "4. print('V:{:08.2f}'.format(1.45678)) will print to the console V:00001.46\n",
    "    which of the above statements are true?"
   ]
  },
  {
   "cell_type": "code",
   "execution_count": 21,
   "id": "0a79ff7a",
   "metadata": {},
   "outputs": [
    {
     "name": "stdout",
     "output_type": "stream",
     "text": [
      "V:123.46\n"
     ]
    }
   ],
   "source": [
    "print('V:{:.2f}'.format(123.45678))"
   ]
  },
  {
   "cell_type": "code",
   "execution_count": 22,
   "id": "02debd03",
   "metadata": {},
   "outputs": [
    {
     "name": "stdout",
     "output_type": "stream",
     "text": [
      "V:123.40\n"
     ]
    }
   ],
   "source": [
    "print('V:{:.2f}'.format(123.4))"
   ]
  },
  {
   "cell_type": "code",
   "execution_count": 23,
   "id": "581c1fb0",
   "metadata": {},
   "outputs": [
    {
     "name": "stdout",
     "output_type": "stream",
     "text": [
      "V:    1.46\n"
     ]
    }
   ],
   "source": [
    "print('V:{:8.2f}'.format(1.45678))"
   ]
  },
  {
   "cell_type": "code",
   "execution_count": 24,
   "id": "7e118090",
   "metadata": {},
   "outputs": [
    {
     "name": "stdout",
     "output_type": "stream",
     "text": [
      "V:00001.46\n"
     ]
    }
   ],
   "source": [
    "print('V:{:08.2f}'.format(1.45678))"
   ]
  },
  {
   "cell_type": "markdown",
   "id": "ac2d4431",
   "metadata": {},
   "source": [
    "## 3) We are developing a sports application.our program should allow players to enter their name and score.\n",
    "The program will print player name and his average score.Output must meet the following requirements:\n",
    "Consider the code:\n",
    "name=input(\"Enter your name:\")\n",
    "score=0\n",
    "count=0\n",
    "sum=0\n",
    "while(score!=-1):\n",
    "    score=int(input('Enter your scores:(-1 for end)'))\n",
    "    if score==-1\n",
    "        break\n",
    "    sum+=score\n",
    "    count+=1\n",
    "average_score=sum/count\n",
    "###line1"
   ]
  },
  {
   "cell_type": "code",
   "execution_count": 26,
   "id": "874916b2",
   "metadata": {},
   "outputs": [
    {
     "name": "stdout",
     "output_type": "stream",
     "text": [
      "Enter your name:mayuri\n",
      "Enter your scores:(-1 for end)25\n",
      "Enter your scores:(-1 for end)-1\n",
      "              mayuri,your average score is:25.0\n"
     ]
    }
   ],
   "source": [
    "name=input(\"Enter your name:\")\n",
    "score=0\n",
    "count=0\n",
    "sum=0\n",
    "while(score!=-1):\n",
    "    score=int(input('Enter your scores:(-1 for end)'))\n",
    "    if score==-1:\n",
    "        break\n",
    "    sum+=score\n",
    "    count+=1\n",
    "average_score=sum/count\n",
    "print('%20s,your average score is:%4.1f' %(name,average_score))"
   ]
  },
  {
   "cell_type": "code",
   "execution_count": 28,
   "id": "dd7d6d5a",
   "metadata": {},
   "outputs": [
    {
     "name": "stdout",
     "output_type": "stream",
     "text": [
      "Enter your name:ram\n",
      "Enter your scores:(-1 for end)100\n",
      "Enter your scores:(-1 for end)-1\n",
      "ram                 ,your average score is:100.0\n"
     ]
    }
   ],
   "source": [
    "name=input(\"Enter your name:\")\n",
    "score=0\n",
    "count=0\n",
    "sum=0\n",
    "while(score!=-1):\n",
    "    score=int(input('Enter your scores:(-1 for end)'))\n",
    "    if score==-1:\n",
    "        break\n",
    "    sum+=score\n",
    "    count+=1\n",
    "average_score=sum/count\n",
    "print('%-20s,your average score is:%4.1f' %(name,average_score))"
   ]
  },
  {
   "cell_type": "markdown",
   "id": "cb3d5c0a",
   "metadata": {},
   "source": [
    "### 4)Consider the following code:\n",
    "numbers=[0,1,2,3,4,5,6,7,8,9]\n",
    "index=0\n",
    "while(index<10)##line 1\n",
    "    print(numbers[index])\n",
    "\n",
    "    if numbers(index)##line 2\n",
    "        break\n",
    "    else:\n",
    "        index+=1\n",
    "        \n"
   ]
  },
  {
   "cell_type": "code",
   "execution_count": 31,
   "id": "51f276f2",
   "metadata": {},
   "outputs": [
    {
     "name": "stdout",
     "output_type": "stream",
     "text": [
      "0\n",
      "1\n",
      "2\n",
      "3\n",
      "4\n",
      "5\n",
      "6\n"
     ]
    }
   ],
   "source": [
    "numbers=[0,1,2,3,4,5,6,7,8,9]\n",
    "index=0\n",
    "while(index<10):\n",
    "    print(numbers[index])\n",
    "    if numbers[index]==6:\n",
    "        break\n",
    "    else:\n",
    "        index+=1"
   ]
  },
  {
   "cell_type": "markdown",
   "id": "55b3513b",
   "metadata": {},
   "source": [
    "### 5) You are writing a python program to validate employee numbers\n",
    "employee_number=input(\"Enter your employee numbere(dd-ddd-dddd)\")\n",
    "parts=employee_number.split('-')\n",
    "valid=False\n",
    "if len(parts)==3:\n",
    "    if len(parts[0])==2 and len(parts[1])==3 and len(parts[2])==4:\n",
    "        if parts[0].isdigit() and parts[1].isdigit() and parts[2].isdigit():\n",
    "            valid=True\n",
    "print(valid)\n",
    "    \n",
    "\n"
   ]
  },
  {
   "cell_type": "code",
   "execution_count": 37,
   "id": "f784c9ee",
   "metadata": {},
   "outputs": [
    {
     "name": "stdout",
     "output_type": "stream",
     "text": [
      "Enter your employee numbere(dd-ddd-dddd)12-456-2022\n",
      "True\n"
     ]
    }
   ],
   "source": [
    "employee_number=input(\"Enter your employee numbere(dd-ddd-dddd)\")\n",
    "parts=employee_number.split('-')\n",
    "valid=False\n",
    "if len(parts)==3:\n",
    "    if len(parts[0])==2 and len(parts[1])==3 and len(parts[2])==4:\n",
    "        if parts[0].isdigit() and parts[1].isdigit() and parts[2].isdigit():\n",
    "            valid=True\n",
    "        \n",
    "print(valid)\n"
   ]
  },
  {
   "cell_type": "code",
   "execution_count": 39,
   "id": "137b5b3e",
   "metadata": {},
   "outputs": [
    {
     "name": "stdout",
     "output_type": "stream",
     "text": [
      "Enter your employee numbere(dd-ddd-dddd)12-45-2022\n",
      "False\n"
     ]
    }
   ],
   "source": [
    "employee_number=input(\"Enter your employee numbere(dd-ddd-dddd)\")\n",
    "parts=employee_number.split('-')\n",
    "valid=False\n",
    "if len(parts)==3:\n",
    "    if len(parts[0])==2 and len(parts[1])==3 and len(parts[2])==4:\n",
    "        if parts[0].isdigit() and parts[1].isdigit() and parts[2].isdigit():\n",
    "            valid=True\n",
    "        else:\n",
    "            valid=False\n",
    "print(valid)\n"
   ]
  },
  {
   "cell_type": "markdown",
   "id": "ee7a3581",
   "metadata": {},
   "source": [
    "### 6) You are coding a math utility function by using python\n",
    "You are writing a function to compute roots\n",
    "The function must meet the following requirements\n",
    "If a is non negative then return a**(1/b)\n",
    "If a is negative and even, return \"result is an imaginary number\"\n",
    "If a is negative and odd return -(-a)**(1/b)"
   ]
  },
  {
   "cell_type": "code",
   "execution_count": 42,
   "id": "34c8d63b",
   "metadata": {},
   "outputs": [],
   "source": [
    "def roots(a,b):\n",
    "    if a>=0:\n",
    "        return a**(1/b)\n",
    "    elif a%2==0:\n",
    "        return \"Result is an imaginary number\"\n",
    "    else:\n",
    "        return -(-a)**(1/b)"
   ]
  },
  {
   "cell_type": "code",
   "execution_count": 43,
   "id": "0021e297",
   "metadata": {},
   "outputs": [
    {
     "data": {
      "text/plain": [
       "1.5157165665103982"
      ]
     },
     "execution_count": 43,
     "metadata": {},
     "output_type": "execute_result"
    }
   ],
   "source": [
    "roots(8,5)"
   ]
  },
  {
   "cell_type": "code",
   "execution_count": 45,
   "id": "3f36ff82",
   "metadata": {},
   "outputs": [
    {
     "data": {
      "text/plain": [
       "2.23606797749979"
      ]
     },
     "execution_count": 45,
     "metadata": {},
     "output_type": "execute_result"
    }
   ],
   "source": [
    "roots(5,2)"
   ]
  },
  {
   "cell_type": "code",
   "execution_count": 46,
   "id": "a024b0a5",
   "metadata": {},
   "outputs": [
    {
     "data": {
      "text/plain": [
       "'Result is an imaginary number'"
      ]
     },
     "execution_count": 46,
     "metadata": {},
     "output_type": "execute_result"
    }
   ],
   "source": [
    "roots(-8,5)"
   ]
  },
  {
   "cell_type": "markdown",
   "id": "deac0463",
   "metadata": {},
   "source": [
    "### 7) we are developing an online shopping application. consider the code\n",
    "d=input(\"Enter teh day of the week\")\n",
    "discount_percentage=3\n",
    "if d=='Monday':\n",
    "    dicount_percentage+=5\n",
    "elif d=='Tuesday':\n",
    "    discount_percentage+=7\n",
    "elif d=='Saturday':\n",
    "    discount_percentage+=10\n",
    "elif d='Sunday':\n",
    "    discount_percentage+=20\n",
    "else:\n",
    "    discount_percentage+=2\n",
    "    \n",
    "To get 5 as discount_percentage,which of the following input should be provided to the end user."
   ]
  },
  {
   "cell_type": "code",
   "execution_count": 54,
   "id": "9e1c17f0",
   "metadata": {},
   "outputs": [
    {
     "name": "stdout",
     "output_type": "stream",
     "text": [
      "Enter the day of the weekThursday\n",
      "5\n"
     ]
    }
   ],
   "source": [
    "d=input(\"Enter the day of the week\")\n",
    "discount_percentage=3\n",
    "if d=='Monday':\n",
    "    discount_percentage+=5\n",
    "    print(discount_percentage)\n",
    "elif d=='Tuesday':\n",
    "    discount_percentage+=7\n",
    "    print(discount_percentage)\n",
    "elif d=='Saturday':\n",
    "    discount_percentage+=10\n",
    "    print(discount_percentage)\n",
    "elif d=='Sunday':\n",
    "    discount_percentage+=20\n",
    "    print(discount_percentage)\n",
    "else:\n",
    "    discount_percentage+=2\n",
    "    print(discount_percentage)"
   ]
  },
  {
   "cell_type": "markdown",
   "id": "e104ae70",
   "metadata": {},
   "source": [
    "### 8)We are developing a gold loan application for XYZ comapny\n",
    "amount=float(input(\"Enter Loan amount:\"))\n",
    "interest_rate=0\n",
    "elif amount>0 and amount<=50000:\n",
    "    interest_rate=10\n",
    "elif amount>50000 and amount<=100000:\n",
    "    interest_rate=12\n",
    "elif amount>=100000 and amount<150000:\n",
    "    interest_rate=16\n",
    "else:\n",
    "    interest_rate=22\n",
    "    \n",
    "which of the following user input interest_rate will be 12"
   ]
  },
  {
   "cell_type": "code",
   "execution_count": 59,
   "id": "e8ee2770",
   "metadata": {},
   "outputs": [
    {
     "name": "stdout",
     "output_type": "stream",
     "text": [
      "Enter Loan amount:50001\n",
      "12\n"
     ]
    }
   ],
   "source": [
    "amount=float(input(\"Enter Loan amount:\"))\n",
    "interest_rate=0\n",
    "if amount > 0 and amount<=50000:\n",
    "    interest_rate=10\n",
    "    print(interest_rate)\n",
    "elif amount>50000 and amount<=100000:\n",
    "    interest_rate=12\n",
    "    print(interest_rate)\n",
    "elif amount>=100000 and amount<150000:\n",
    "    interest_rate=16\n",
    "    print(interest_rate)\n",
    "else:\n",
    "    interest_rate=22\n",
    "    print(interest_rate)"
   ]
  },
  {
   "cell_type": "code",
   "execution_count": 5,
   "id": "a657e193",
   "metadata": {},
   "outputs": [
    {
     "name": "stdout",
     "output_type": "stream",
     "text": [
      "Enter number of days for leave:2\n",
      "Enter the cause:Sick\n",
      "Leave will be approve immediately\n"
     ]
    }
   ],
   "source": [
    "###9)we are developing an application for leave approval in xyz company\n",
    "days=int(input(\"Enter number of days for leave:\"))\n",
    "cause=input(\"Enter the cause:\")\n",
    "if days==1:\n",
    "    print(\"Leave will be aprrove immediately\")\n",
    "elif days>1 and days<=3:\n",
    "    if cause=='Sick':\n",
    "        print(\"Leave will be approve immediately\")\n",
    "    else:\n",
    "        print(\"needs lead approval\")\n",
    "elif days>3 and days<5:\n",
    "    if cause=='Sick':\n",
    "        print(\"needs Manager approval\")\n",
    "    else:\n",
    "        print(\"needs Directer approval\")\n",
    "elif days>=5 and days<=10:\n",
    "    print(\"Needs Directer approval\")\n"
   ]
  },
  {
   "cell_type": "code",
   "execution_count": 6,
   "id": "81f68a50",
   "metadata": {},
   "outputs": [
    {
     "name": "stdout",
     "output_type": "stream",
     "text": [
      "Enter number of days for leave:4\n",
      "Enter the cause:official\n",
      "needs Directer approval\n"
     ]
    }
   ],
   "source": [
    "days=int(input(\"Enter number of days for leave:\"))\n",
    "cause=input(\"Enter the cause:\")\n",
    "if days==1:\n",
    "    print(\"Leave will be aprrove immediately\")\n",
    "elif days>1 and days<=3:\n",
    "    if cause=='Sick':\n",
    "        print(\"Leave will be approve immediately\")\n",
    "    else:\n",
    "        print(\"needs lead approval\")\n",
    "elif days>3 and days<5:\n",
    "    if cause=='Sick':\n",
    "        print(\"needs Manager approval\")\n",
    "    else:\n",
    "        print(\"needs Directer approval\")\n",
    "elif days>=5 and days<=10:\n",
    "    print(\"Needs Directer approval\")\n"
   ]
  },
  {
   "cell_type": "code",
   "execution_count": 16,
   "id": "a1bbbc04",
   "metadata": {},
   "outputs": [
    {
     "name": "stdout",
     "output_type": "stream",
     "text": [
      "C\n",
      "Object `console` not found.\n"
     ]
    }
   ],
   "source": [
    "####10)  consider the following code\n",
    "marks=[30,40,50,45,50,100]\n",
    "average=sum(marks)/len(marks)\n",
    "grades={1:'A',2:'B',3:'C',4:'D'}\n",
    "if average>=90 and average<=100:\n",
    "    key=1\n",
    "elif average>=80 and average<90:\n",
    "    key=2\n",
    "elif average>=50 and average<80:\n",
    "    key=3\n",
    "else:\n",
    "    key=4\n",
    "print(grades[key])\n",
    "which grade printed to the console?\n"
   ]
  },
  {
   "cell_type": "code",
   "execution_count": 17,
   "id": "57270640",
   "metadata": {},
   "outputs": [
    {
     "name": "stdout",
     "output_type": "stream",
     "text": [
      "C\n"
     ]
    }
   ],
   "source": [
    "marks=[30,40,50,45,50,100]\n",
    "average=sum(marks)/len(marks)\n",
    "grades={1:'A',2:'B',3:'C',4:'D'}\n",
    "if average>=90 and average<=100:\n",
    "    key=1\n",
    "elif average>=80 and average<90:\n",
    "    key=2\n",
    "elif average>=50 and average<80:\n",
    "    key=3\n",
    "else:\n",
    "    key=4\n",
    "print(grades[key])"
   ]
  },
  {
   "cell_type": "code",
   "execution_count": null,
   "id": "a967d235",
   "metadata": {},
   "outputs": [],
   "source": [
    "###11)Consider the code\n",
    "a=12\n",
    "b=4\n",
    "s='He shall not be happy if he does not work'\n",
    "in which of the following cases result value will become 9"
   ]
  },
  {
   "cell_type": "code",
   "execution_count": 18,
   "id": "ca344bf7",
   "metadata": {},
   "outputs": [],
   "source": [
    "a=12\n",
    "b=4\n",
    "s='He shall not be happy if he does not work'"
   ]
  },
  {
   "cell_type": "code",
   "execution_count": 19,
   "id": "7499cf47",
   "metadata": {},
   "outputs": [],
   "source": [
    "result=3 if None else a/b"
   ]
  },
  {
   "cell_type": "code",
   "execution_count": 20,
   "id": "4f0171c7",
   "metadata": {},
   "outputs": [
    {
     "data": {
      "text/plain": [
       "3.0"
      ]
     },
     "execution_count": 20,
     "metadata": {},
     "output_type": "execute_result"
    }
   ],
   "source": [
    "result"
   ]
  },
  {
   "cell_type": "code",
   "execution_count": 21,
   "id": "551ec4ca",
   "metadata": {},
   "outputs": [],
   "source": [
    "result=s.find('not') if s else None"
   ]
  },
  {
   "cell_type": "code",
   "execution_count": 22,
   "id": "147a574c",
   "metadata": {},
   "outputs": [
    {
     "data": {
      "text/plain": [
       "9"
      ]
     },
     "execution_count": 22,
     "metadata": {},
     "output_type": "execute_result"
    }
   ],
   "source": [
    "result"
   ]
  },
  {
   "cell_type": "code",
   "execution_count": 30,
   "id": "2af7dd28",
   "metadata": {},
   "outputs": [],
   "source": [
    "###12)We are developing loan collection agent application. consider the code:\n",
    "collected_amount=3000\n",
    "commission=0\n",
    "if collected_amount<=2000:\n",
    "    commission=50\n",
    "elif collected_amount>2500 and collected_amount<3000:\n",
    "    commission=100\n",
    "elif collected_amount>2500:\n",
    "    commission=150\n",
    "    if collected_amount>=3000:\n",
    "        commission+=200"
   ]
  },
  {
   "cell_type": "markdown",
   "id": "5021a72d",
   "metadata": {},
   "source": [
    "commission"
   ]
  },
  {
   "cell_type": "code",
   "execution_count": 32,
   "id": "c5d2be95",
   "metadata": {},
   "outputs": [
    {
     "data": {
      "text/plain": [
       "350"
      ]
     },
     "execution_count": 32,
     "metadata": {},
     "output_type": "execute_result"
    }
   ],
   "source": [
    "commission"
   ]
  },
  {
   "cell_type": "code",
   "execution_count": 33,
   "id": "c3a4dadf",
   "metadata": {},
   "outputs": [
    {
     "name": "stdout",
     "output_type": "stream",
     "text": [
      "75\n"
     ]
    }
   ],
   "source": [
    "#### 13 You are developing an online shopping application, COnsider the code:\n",
    "order_value=1500\n",
    "state='ap'\n",
    "delivery_charge=0\n",
    "if state in ['up','mp','ts']:\n",
    "    if order_value<=1000:\n",
    "        delivery_charge=50\n",
    "    elif order_value>1000 and order_value<2000:\n",
    "        delivery_charge=100\n",
    "    else:\n",
    "        delivery_charge=150\n",
    "else:\n",
    "    delivery_charge=25\n",
    "if state in ['lp','kp','ap']:\n",
    "    if order_value>1000:\n",
    "        delivery_charge+=20\n",
    "    if order_value<2000 and state in ['kp','ap']:\n",
    "        delivery_charge+=30\n",
    "    else:\n",
    "        delivery_charge+=15\n",
    "print(delivery_charge)\n"
   ]
  },
  {
   "cell_type": "code",
   "execution_count": 34,
   "id": "30344dde",
   "metadata": {},
   "outputs": [
    {
     "name": "stdout",
     "output_type": "stream",
     "text": [
      "75\n"
     ]
    }
   ],
   "source": [
    "order_value=1500\n",
    "state='ap'\n",
    "delivery_charge=0\n",
    "if state in ['up','mp','ts']:\n",
    "    if order_value<=1000:\n",
    "        delivery_charge=50\n",
    "    elif order_value>1000 and order_value<2000:\n",
    "        delivery_charge=100\n",
    "    else:\n",
    "        delivery_charge=150\n",
    "else:\n",
    "    delivery_charge=25\n",
    "if state in ['lp','kp','ap']:\n",
    "    if order_value>1000:\n",
    "        delivery_charge+=20\n",
    "    if order_value<2000 and state in ['kp','ap']:\n",
    "        delivery_charge+=30\n",
    "    else:\n",
    "        delivery_charge+=15\n",
    "print(delivery_charge)\n"
   ]
  },
  {
   "cell_type": "code",
   "execution_count": null,
   "id": "e0d9f6a9",
   "metadata": {},
   "outputs": [],
   "source": [
    "###14 Consider the code:\n",
    "l=[10,20,[30,40],[50,60]]\n",
    "count=0\n",
    "for i in range(len(l)):\n",
    "    if type(l[i])==list:\n",
    "        count=count+1\n",
    "print(count)\n",
    "What is the result?\n"
   ]
  },
  {
   "cell_type": "code",
   "execution_count": 35,
   "id": "09054de2",
   "metadata": {},
   "outputs": [
    {
     "name": "stdout",
     "output_type": "stream",
     "text": [
      "2\n"
     ]
    }
   ],
   "source": [
    "l=[10,20,[30,40],[50,60]]\n",
    "count=0\n",
    "for i in range(len(l)):\n",
    "    if type(l[i])==list:\n",
    "        count=count+1\n",
    "print(count)"
   ]
  },
  {
   "cell_type": "code",
   "execution_count": null,
   "id": "c337a52c",
   "metadata": {},
   "outputs": [],
   "source": [
    "###15) COnsider the code:\n",
    "l=[10,(20,),{30},{},{},[40,50]]\n",
    "count=0\n",
    "for i in range(len(l)):\n",
    "    if type(l[i])==list:\n",
    "        count+=1\n",
    "    elif type(l[i])==tuple:\n",
    "        count+=2\n",
    "    elif type(l[i])==set:\n",
    "        count+=3\n",
    "    elif type(l[i])==dict:\n",
    "        count+=4\n",
    "    else:\n",
    "        count+=5\n",
    "print(count)\n",
    "What is the result?\n"
   ]
  },
  {
   "cell_type": "code",
   "execution_count": 37,
   "id": "0a84b435",
   "metadata": {},
   "outputs": [
    {
     "name": "stdout",
     "output_type": "stream",
     "text": [
      "19\n"
     ]
    }
   ],
   "source": [
    "l=[10,(20,),{30},{},{},[40,50]]\n",
    "count=0\n",
    "for i in range(len(l)):\n",
    "    if type(l[i])==list:\n",
    "        count+=1\n",
    "    elif type(l[i])==tuple:\n",
    "        count+=2\n",
    "    elif type(l[i])==set:\n",
    "        count+=3\n",
    "    elif type(l[i])==dict:\n",
    "        count+=4\n",
    "    else:\n",
    "        count+=5\n",
    "print(count)"
   ]
  },
  {
   "cell_type": "code",
   "execution_count": null,
   "id": "bf2cf47a",
   "metadata": {},
   "outputs": [],
   "source": [
    "### 16)Consider the code:\n",
    "t=(2,4,6,8,10,12)\n",
    "d={1:'A',2:'B',3:'C',4:'D',5:'E',6:'F'}\n",
    "result=1\n",
    "for t1 in t:\n",
    "    if t1 in d:\n",
    "        result+=t1\n",
    "print(result)\n",
    "What is the result?"
   ]
  },
  {
   "cell_type": "code",
   "execution_count": 38,
   "id": "15606f29",
   "metadata": {},
   "outputs": [
    {
     "name": "stdout",
     "output_type": "stream",
     "text": [
      "13\n"
     ]
    }
   ],
   "source": [
    "t=(2,4,6,8,10,12)\n",
    "d={1:'A',2:'B',3:'C',4:'D',5:'E',6:'F'}\n",
    "result=1\n",
    "for t1 in t:\n",
    "    if t1 in d:\n",
    "        result+=t1\n",
    "print(result)"
   ]
  },
  {
   "cell_type": "code",
   "execution_count": null,
   "id": "bbf4196e",
   "metadata": {},
   "outputs": [],
   "source": [
    "###17) Consider the code\n",
    "t=(2,4,6,8,10,12)\n",
    "d={1:'A',2:'B',3:'C',4:'D',5:'E',6:'F'}\n",
    "result=1\n",
    "for t1 in t:\n",
    "    if t1 in d:\n",
    "        continue\n",
    "    else:\n",
    "        result+=t1\n",
    "print(result)\n",
    "what is the result?\n"
   ]
  },
  {
   "cell_type": "code",
   "execution_count": 41,
   "id": "5cc145ea",
   "metadata": {},
   "outputs": [
    {
     "name": "stdout",
     "output_type": "stream",
     "text": [
      "31\n"
     ]
    }
   ],
   "source": [
    "t=(2,4,6,8,10,12)\n",
    "d={1:'A',2:'B',3:'C',4:'D',5:'E',6:'F'}\n",
    "result=1\n",
    "for t1 in t:\n",
    "    if t1 in d:\n",
    "        continue\n",
    "    else:\n",
    "        result+=t1\n",
    "print(result)"
   ]
  },
  {
   "cell_type": "code",
   "execution_count": null,
   "id": "87108f9b",
   "metadata": {},
   "outputs": [],
   "source": [
    "###18)Consider the code:\n",
    "values=[[3,4,5,1],[33,6,1,2]]\n",
    "v= values[0][0]\n",
    "for lst in values:\n",
    "    for element in lst:\n",
    "        if v>element:\n",
    "            v=element\n",
    "print(v)\n",
    "what is the result?\n"
   ]
  },
  {
   "cell_type": "code",
   "execution_count": 42,
   "id": "584df0da",
   "metadata": {},
   "outputs": [
    {
     "name": "stdout",
     "output_type": "stream",
     "text": [
      "1\n"
     ]
    }
   ],
   "source": [
    "values=[[3,4,5,1],[33,6,1,2]]\n",
    "v= values[0][0]\n",
    "for lst in values:\n",
    "    for element in lst:\n",
    "        if v>element:\n",
    "            v=element\n",
    "print(v)"
   ]
  },
  {
   "cell_type": "code",
   "execution_count": null,
   "id": "0df5ee7a",
   "metadata": {},
   "outputs": [],
   "source": [
    "###19) COnsider the code:\n",
    "def get_names():\n",
    "    names=['Sunny','Bunny','Chinny','Vinny','Pinny']\n",
    "    return_names[2:]\n",
    "def update_names(elements):\n",
    "    new_names=[]\n",
    "    for name in elements:\n",
    "        new_names.append(name[:3].upper())\n",
    "    return new_names\n",
    "print(update_names(get_names()))"
   ]
  },
  {
   "cell_type": "code",
   "execution_count": 44,
   "id": "6c5a45fd",
   "metadata": {},
   "outputs": [
    {
     "name": "stdout",
     "output_type": "stream",
     "text": [
      "['CHI', 'VIN', 'PIN']\n"
     ]
    }
   ],
   "source": [
    "def get_names():\n",
    "    names=['Sunny','Bunny','Chinny','Vinny','Pinny']\n",
    "    return names[2:]\n",
    "def update_names(elements):\n",
    "    new_names=[]\n",
    "    for name in elements:\n",
    "        new_names.append(name[:3].upper())\n",
    "    return new_names\n",
    "print(update_names(get_names()))"
   ]
  },
  {
   "cell_type": "code",
   "execution_count": null,
   "id": "51738f96",
   "metadata": {},
   "outputs": [],
   "source": [
    "###20) Consider the code\n",
    "def my_list(x):\n",
    "    lst.append(a)\n",
    "    return lst\n",
    "\n",
    "my_list('chicken')\n",
    "my_list('mutton')\n",
    "print(my_list('fish'))\n",
    "to print following to the console x should be replaced with\n",
    "['chicken','mutton','fish']\n"
   ]
  },
  {
   "cell_type": "code",
   "execution_count": 46,
   "id": "c9fdb5cd",
   "metadata": {},
   "outputs": [
    {
     "name": "stdout",
     "output_type": "stream",
     "text": [
      "['chicken', 'mutton', 'fish']\n"
     ]
    }
   ],
   "source": [
    "def my_list(a,lst=[]):\n",
    "    lst.append(a)\n",
    "    return lst\n",
    "\n",
    "my_list('chicken')\n",
    "my_list('mutton')\n",
    "print(my_list('fish'))"
   ]
  },
  {
   "cell_type": "code",
   "execution_count": null,
   "id": "8b4bf38a",
   "metadata": {},
   "outputs": [],
   "source": [
    "###21) Consider the code\n",
    "def f1(x=0,y=0):\n",
    "    return x+y\n",
    "which of the methods calls are valid?\n"
   ]
  },
  {
   "cell_type": "code",
   "execution_count": 47,
   "id": "16b89693",
   "metadata": {},
   "outputs": [],
   "source": [
    "def f1(x=0,y=0):\n",
    "    return x+y"
   ]
  },
  {
   "cell_type": "code",
   "execution_count": 49,
   "id": "9e3c79b9",
   "metadata": {},
   "outputs": [
    {
     "data": {
      "text/plain": [
       "0"
      ]
     },
     "execution_count": 49,
     "metadata": {},
     "output_type": "execute_result"
    }
   ],
   "source": [
    "f1()"
   ]
  },
  {
   "cell_type": "code",
   "execution_count": 50,
   "id": "e0008e9b",
   "metadata": {},
   "outputs": [
    {
     "data": {
      "text/plain": [
       "10"
      ]
     },
     "execution_count": 50,
     "metadata": {},
     "output_type": "execute_result"
    }
   ],
   "source": [
    "f1(10)"
   ]
  },
  {
   "cell_type": "code",
   "execution_count": 51,
   "id": "1b1599a3",
   "metadata": {},
   "outputs": [
    {
     "data": {
      "text/plain": [
       "30"
      ]
     },
     "execution_count": 51,
     "metadata": {},
     "output_type": "execute_result"
    }
   ],
   "source": [
    "f1(10,20)"
   ]
  },
  {
   "cell_type": "code",
   "execution_count": 52,
   "id": "895c211e",
   "metadata": {},
   "outputs": [
    {
     "ename": "TypeError",
     "evalue": "can only concatenate str (not \"int\") to str",
     "output_type": "error",
     "traceback": [
      "\u001b[1;31m---------------------------------------------------------------------------\u001b[0m",
      "\u001b[1;31mTypeError\u001b[0m                                 Traceback (most recent call last)",
      "\u001b[1;32m~\\AppData\\Local\\Temp/ipykernel_3844/774868890.py\u001b[0m in \u001b[0;36m<module>\u001b[1;34m\u001b[0m\n\u001b[1;32m----> 1\u001b[1;33m \u001b[0mf1\u001b[0m\u001b[1;33m(\u001b[0m\u001b[1;34m'10'\u001b[0m\u001b[1;33m)\u001b[0m\u001b[1;33m\u001b[0m\u001b[1;33m\u001b[0m\u001b[0m\n\u001b[0m",
      "\u001b[1;32m~\\AppData\\Local\\Temp/ipykernel_3844/2723617331.py\u001b[0m in \u001b[0;36mf1\u001b[1;34m(x, y)\u001b[0m\n\u001b[0;32m      1\u001b[0m \u001b[1;32mdef\u001b[0m \u001b[0mf1\u001b[0m\u001b[1;33m(\u001b[0m\u001b[0mx\u001b[0m\u001b[1;33m=\u001b[0m\u001b[1;36m0\u001b[0m\u001b[1;33m,\u001b[0m\u001b[0my\u001b[0m\u001b[1;33m=\u001b[0m\u001b[1;36m0\u001b[0m\u001b[1;33m)\u001b[0m\u001b[1;33m:\u001b[0m\u001b[1;33m\u001b[0m\u001b[1;33m\u001b[0m\u001b[0m\n\u001b[1;32m----> 2\u001b[1;33m     \u001b[1;32mreturn\u001b[0m \u001b[0mx\u001b[0m\u001b[1;33m+\u001b[0m\u001b[0my\u001b[0m\u001b[1;33m\u001b[0m\u001b[1;33m\u001b[0m\u001b[0m\n\u001b[0m",
      "\u001b[1;31mTypeError\u001b[0m: can only concatenate str (not \"int\") to str"
     ]
    }
   ],
   "source": [
    "f1('10')"
   ]
  },
  {
   "cell_type": "code",
   "execution_count": 53,
   "id": "6542e773",
   "metadata": {},
   "outputs": [
    {
     "data": {
      "text/plain": [
       "'1020'"
      ]
     },
     "execution_count": 53,
     "metadata": {},
     "output_type": "execute_result"
    }
   ],
   "source": [
    "f1('10','20')"
   ]
  },
  {
   "cell_type": "code",
   "execution_count": null,
   "id": "0ffefb21",
   "metadata": {},
   "outputs": [],
   "source": [
    "###22) Consider the code\n",
    "def f1(x=0,y=0):\n",
    "    return x*y\n",
    "which of the methods calls are valid?"
   ]
  },
  {
   "cell_type": "code",
   "execution_count": 54,
   "id": "33c946a7",
   "metadata": {},
   "outputs": [],
   "source": [
    "def f1(x=0,y=0):\n",
    "    return x*y"
   ]
  },
  {
   "cell_type": "code",
   "execution_count": 55,
   "id": "4ccf98e2",
   "metadata": {},
   "outputs": [
    {
     "data": {
      "text/plain": [
       "0"
      ]
     },
     "execution_count": 55,
     "metadata": {},
     "output_type": "execute_result"
    }
   ],
   "source": [
    "f1()"
   ]
  },
  {
   "cell_type": "code",
   "execution_count": 56,
   "id": "00d8c484",
   "metadata": {},
   "outputs": [
    {
     "ename": "TypeError",
     "evalue": "can't multiply sequence by non-int of type 'str'",
     "output_type": "error",
     "traceback": [
      "\u001b[1;31m---------------------------------------------------------------------------\u001b[0m",
      "\u001b[1;31mTypeError\u001b[0m                                 Traceback (most recent call last)",
      "\u001b[1;32m~\\AppData\\Local\\Temp/ipykernel_3844/3787630236.py\u001b[0m in \u001b[0;36m<module>\u001b[1;34m\u001b[0m\n\u001b[1;32m----> 1\u001b[1;33m \u001b[0mf1\u001b[0m\u001b[1;33m(\u001b[0m\u001b[1;34m'10'\u001b[0m\u001b[1;33m,\u001b[0m\u001b[1;34m'20'\u001b[0m\u001b[1;33m)\u001b[0m\u001b[1;33m\u001b[0m\u001b[1;33m\u001b[0m\u001b[0m\n\u001b[0m",
      "\u001b[1;32m~\\AppData\\Local\\Temp/ipykernel_3844/1056379176.py\u001b[0m in \u001b[0;36mf1\u001b[1;34m(x, y)\u001b[0m\n\u001b[0;32m      1\u001b[0m \u001b[1;32mdef\u001b[0m \u001b[0mf1\u001b[0m\u001b[1;33m(\u001b[0m\u001b[0mx\u001b[0m\u001b[1;33m=\u001b[0m\u001b[1;36m0\u001b[0m\u001b[1;33m,\u001b[0m\u001b[0my\u001b[0m\u001b[1;33m=\u001b[0m\u001b[1;36m0\u001b[0m\u001b[1;33m)\u001b[0m\u001b[1;33m:\u001b[0m\u001b[1;33m\u001b[0m\u001b[1;33m\u001b[0m\u001b[0m\n\u001b[1;32m----> 2\u001b[1;33m     \u001b[1;32mreturn\u001b[0m \u001b[0mx\u001b[0m\u001b[1;33m*\u001b[0m\u001b[0my\u001b[0m\u001b[1;33m\u001b[0m\u001b[1;33m\u001b[0m\u001b[0m\n\u001b[0m",
      "\u001b[1;31mTypeError\u001b[0m: can't multiply sequence by non-int of type 'str'"
     ]
    }
   ],
   "source": [
    "f1('10','20')"
   ]
  },
  {
   "cell_type": "code",
   "execution_count": 57,
   "id": "d34985b6",
   "metadata": {},
   "outputs": [
    {
     "data": {
      "text/plain": [
       "200"
      ]
     },
     "execution_count": 57,
     "metadata": {},
     "output_type": "execute_result"
    }
   ],
   "source": [
    "f1(10,20)"
   ]
  },
  {
   "cell_type": "code",
   "execution_count": 58,
   "id": "d53ec134",
   "metadata": {},
   "outputs": [
    {
     "data": {
      "text/plain": [
       "'20202020202020202020'"
      ]
     },
     "execution_count": 58,
     "metadata": {},
     "output_type": "execute_result"
    }
   ],
   "source": [
    "f1(10,'20')"
   ]
  },
  {
   "cell_type": "code",
   "execution_count": 59,
   "id": "ca9ea318",
   "metadata": {},
   "outputs": [
    {
     "data": {
      "text/plain": [
       "'1010101010'"
      ]
     },
     "execution_count": 59,
     "metadata": {},
     "output_type": "execute_result"
    }
   ],
   "source": [
    "f1('10',5)"
   ]
  },
  {
   "cell_type": "code",
   "execution_count": 60,
   "id": "766821df",
   "metadata": {},
   "outputs": [
    {
     "data": {
      "text/plain": [
       "''"
      ]
     },
     "execution_count": 60,
     "metadata": {},
     "output_type": "execute_result"
    }
   ],
   "source": [
    "f1('10')"
   ]
  },
  {
   "cell_type": "code",
   "execution_count": null,
   "id": "ee189a5f",
   "metadata": {},
   "outputs": [],
   "source": [
    "###23) Consider the following code\n",
    "numbers=[100,20,10,70,50,60,40,30,90,80]\n",
    "#insert code here\n",
    "print(\"the highest number:{} and least number:{}\".format(high,low))\n",
    "which of the following code should be inserted to print highest number as 100 and least number as 10"
   ]
  },
  {
   "cell_type": "code",
   "execution_count": 63,
   "id": "cf8f37e1",
   "metadata": {},
   "outputs": [
    {
     "name": "stdout",
     "output_type": "stream",
     "text": [
      "the highest number:100 and least number:10\n"
     ]
    }
   ],
   "source": [
    "numbers=[100,20,10,70,50,60,40,30,90,80]\n",
    "def find_numbers():\n",
    "    numbers.sort()\n",
    "    return numbers[-1],numbers[0]\n",
    "high,low=find_numbers()\n",
    "    \n",
    "print(\"the highest number:{} and least number:{}\".format(high,low))"
   ]
  },
  {
   "cell_type": "code",
   "execution_count": null,
   "id": "372a052f",
   "metadata": {},
   "outputs": [],
   "source": [
    "###24)Consider the code\n",
    "numbers=[100,20,10,70,50,60,40,30,90,80]\n",
    "def find_numbers():\n",
    "    numbers.sort()\n",
    "    return numbers[-1],numbers[0]\n",
    "low=find_numbers()\n",
    "high=find_numbers()\n",
    "##line 1\n",
    "to print 10 100 to the console which of the following code we have to take at line 1"
   ]
  },
  {
   "cell_type": "code",
   "execution_count": 65,
   "id": "4ee7bb37",
   "metadata": {},
   "outputs": [
    {
     "name": "stdout",
     "output_type": "stream",
     "text": [
      "10 100\n"
     ]
    }
   ],
   "source": [
    "numbers=[100,20,10,70,50,60,40,30,90,80]\n",
    "def find_numbers():\n",
    "    numbers.sort()\n",
    "    return numbers[0],numbers[-1]\n",
    "low=find_numbers()\n",
    "high=find_numbers()\n",
    "print(low[0],high[-1])"
   ]
  },
  {
   "cell_type": "code",
   "execution_count": null,
   "id": "ace36c40",
   "metadata": {},
   "outputs": [],
   "source": [
    "###25) Consider the code\n",
    "def calculate(amount=6,factor=3):\n",
    "    if amount>6:\n",
    "        return amount*factor\n",
    "    else:\n",
    "        amount*factor*2\n",
    "which of the function calls return 30\n",
    "\n"
   ]
  },
  {
   "cell_type": "code",
   "execution_count": 66,
   "id": "6f1ce1f3",
   "metadata": {},
   "outputs": [],
   "source": [
    "def calculate(amount=6,factor=3):\n",
    "    if amount>6:\n",
    "        return amount*factor\n",
    "    else:\n",
    "        amount*factor*2"
   ]
  },
  {
   "cell_type": "code",
   "execution_count": 67,
   "id": "dc2eb3ea",
   "metadata": {},
   "outputs": [],
   "source": [
    "calculate()"
   ]
  },
  {
   "cell_type": "code",
   "execution_count": 68,
   "id": "e5f34812",
   "metadata": {},
   "outputs": [
    {
     "data": {
      "text/plain": [
       "30"
      ]
     },
     "execution_count": 68,
     "metadata": {},
     "output_type": "execute_result"
    }
   ],
   "source": [
    "calculate(10)"
   ]
  },
  {
   "cell_type": "code",
   "execution_count": null,
   "id": "671038df",
   "metadata": {},
   "outputs": [],
   "source": [
    "###26)Consider the following code\n",
    "def fib_seq(n):\n",
    "    if n==0:\n",
    "        return 0\n",
    "    elif n==1:\n",
    "        return 1\n",
    "    else:\n",
    "        return fib_seq(n-1)+fib_seq(n-2)\n",
    "for i in range(7):\n",
    "    print(fib_seq(i),end=',')\n",
    "what is the result?"
   ]
  },
  {
   "cell_type": "code",
   "execution_count": 69,
   "id": "c3308166",
   "metadata": {},
   "outputs": [
    {
     "name": "stdout",
     "output_type": "stream",
     "text": [
      "0,1,1,2,3,5,8,"
     ]
    }
   ],
   "source": [
    "def fib_seq(n):\n",
    "    if n==0:\n",
    "        return 0\n",
    "    elif n==1:\n",
    "        return 1\n",
    "    else:\n",
    "        return fib_seq(n-1)+fib_seq(n-2)\n",
    "for i in range(7):\n",
    "    print(fib_seq(i),end=',')"
   ]
  },
  {
   "cell_type": "code",
   "execution_count": null,
   "id": "03e2d3e6",
   "metadata": {},
   "outputs": [],
   "source": [
    "###27) You are developing a online application for a game\n",
    "You need to create function that meets following criteria:\n",
    "    the function is named update_score\n",
    "    the function receives current score ana a value\n",
    "    the function adds the value to the current score\n",
    "    the function returns the new score"
   ]
  },
  {
   "cell_type": "code",
   "execution_count": null,
   "id": "a72281db",
   "metadata": {},
   "outputs": [],
   "source": [
    "def update_score(score,value):\n",
    "    new_score=score+value\n",
    "    return new_score"
   ]
  },
  {
   "cell_type": "code",
   "execution_count": null,
   "id": "14dad905",
   "metadata": {},
   "outputs": [],
   "source": [
    "###28)The XYZ company is creating a program that allows customers to log number of miles biked.\n",
    "The program will send messages based on how many miles the customers log.Consider the following python code:\n",
    "Line 1:\n",
    "    name=input(\"Enter your name:\")\n",
    "    return name\n",
    "Line 2:\n",
    "    calories=miles*calories_per_mile\n",
    "    return caloroies\n",
    "distance=int(input(\"How many miles did u bike in this week\"))\n",
    "burn_rate=50\n",
    "biker=get_name()\n",
    "calories_burned=calc_calories(distance,burn_rate)\n",
    "print(biker,\", You burned about\",calories_burned,\" calories\")"
   ]
  },
  {
   "cell_type": "code",
   "execution_count": 3,
   "id": "278790df",
   "metadata": {},
   "outputs": [
    {
     "name": "stdout",
     "output_type": "stream",
     "text": [
      "How many miles did u bike in this week20\n",
      "Enter your name:Mayuri\n",
      "Mayuri , You burned about 1000  calories\n"
     ]
    }
   ],
   "source": [
    "def get_name():\n",
    "    name=input(\"Enter your name:\")\n",
    "    return name\n",
    "def calc_calories(miles,calories_per_mile):\n",
    "    calories=miles*calories_per_mile\n",
    "    return calories\n",
    "distance=int(input(\"How many miles did u bike in this week\"))\n",
    "burn_rate=50\n",
    "biker=get_name()\n",
    "calories_burned=calc_calories(distance,burn_rate)\n",
    "print(biker,\", You burned about\",calories_burned,\" calories\")"
   ]
  },
  {
   "cell_type": "code",
   "execution_count": null,
   "id": "f1598ba4",
   "metadata": {},
   "outputs": [],
   "source": [
    "####30)Consider the following python code:\n",
    "def count_letter(letter,word_list):\n",
    "    count=0\n",
    "    for word in word_list:\n",
    "        if letter in word:\n",
    "            count+=1\n",
    "word_list=['apple','pears','orange','mango']\n",
    "letter=input(\"Enter some alphabet symbol:\")\n",
    "letter_count=count_letter(letter,word_list)\n",
    "print(letter_count)\n",
    "If the user provides input a the what is the result?\n",
    "\n",
    "            \n"
   ]
  },
  {
   "cell_type": "code",
   "execution_count": 11,
   "id": "f4b9382b",
   "metadata": {},
   "outputs": [
    {
     "name": "stdout",
     "output_type": "stream",
     "text": [
      "Enter some alphabet symbol:a\n",
      "4\n"
     ]
    }
   ],
   "source": [
    "def count_letter(letter,word_list):\n",
    "    count=0\n",
    "    for word in word_list:\n",
    "        if letter in word:\n",
    "            count+=1\n",
    "    return count\n",
    "word_list=['apple','pears','orange','mango']\n",
    "letter=input(\"Enter some alphabet symbol:\")\n",
    "letter_count=count_letter(letter,word_list)\n",
    "print(letter_count)"
   ]
  },
  {
   "cell_type": "code",
   "execution_count": null,
   "id": "3f9a1639",
   "metadata": {},
   "outputs": [],
   "source": [
    "####31)Consider the code:\n",
    "startmsg=\"hello\"\n",
    "endmsg=\"\"\n",
    "for i in range(0,len(startmsg)):\n",
    "    endmsg=startmsg[i]+endmsg\n",
    "print(endmsg)\n",
    "what is the result?"
   ]
  },
  {
   "cell_type": "code",
   "execution_count": 14,
   "id": "52b384b2",
   "metadata": {},
   "outputs": [
    {
     "name": "stdout",
     "output_type": "stream",
     "text": [
      "olleh\n"
     ]
    }
   ],
   "source": [
    "startmsg=\"hello\"\n",
    "endmsg=\"\"\n",
    "for i in range(0,len(startmsg)):\n",
    "    endmsg=startmsg[i]+endmsg\n",
    "print(endmsg)"
   ]
  },
  {
   "cell_type": "code",
   "execution_count": null,
   "id": "ef56b829",
   "metadata": {},
   "outputs": [],
   "source": [
    "##32)Consider the code\n",
    "x=[13,4,17,10]\n",
    "w=x[1:]\n",
    "u=x[1:]\n",
    "y=x\n",
    "u[0]=50\n",
    "y[1]=40\n",
    "print(x)\n",
    "What is the result?\n"
   ]
  },
  {
   "cell_type": "code",
   "execution_count": 15,
   "id": "4724df51",
   "metadata": {},
   "outputs": [
    {
     "name": "stdout",
     "output_type": "stream",
     "text": [
      "[13, 40, 17, 10]\n"
     ]
    }
   ],
   "source": [
    "x=[13,4,17,10]\n",
    "w=x[1:]\n",
    "u=x[1:]\n",
    "y=x\n",
    "u[0]=50\n",
    "y[1]=40\n",
    "print(x)"
   ]
  },
  {
   "cell_type": "code",
   "execution_count": 16,
   "id": "64b39d59",
   "metadata": {},
   "outputs": [
    {
     "ename": "SyntaxError",
     "evalue": "invalid syntax (Temp/ipykernel_8168/126610626.py, line 2)",
     "output_type": "error",
     "traceback": [
      "\u001b[1;36m  File \u001b[1;32m\"C:\\Users\\Owner\\AppData\\Local\\Temp/ipykernel_8168/126610626.py\"\u001b[1;36m, line \u001b[1;32m2\u001b[0m\n\u001b[1;33m    90 through 100--> A grade\u001b[0m\n\u001b[1;37m       ^\u001b[0m\n\u001b[1;31mSyntaxError\u001b[0m\u001b[1;31m:\u001b[0m invalid syntax\n"
     ]
    }
   ],
   "source": [
    "###33)You are writing a python script to covert student marks to grade.The grades are defined as follows:\n",
    "90 through 100--> A grade\n",
    "80 through 89 --> B grade\n",
    "70 through 79 --> C grade\n",
    "65 throgh 69 --> D grade\n",
    "0 through 64 --> E grade\n",
    "and developed application is\n",
    "#Grade converter\n",
    "marks=int(input(\"Enter the marks:\"))\n",
    "if marks>=90:\n",
    "    grade \"A\"\n",
    "elif marks>=80:\n",
    "    grade \"B\"\n",
    "elif marks>=70:\n",
    "    grade \"C\"\n",
    "elif marks>=65:\n",
    "    grade \"D\"\n",
    "else:\n",
    "    grade \"E\"\n",
    "    "
   ]
  },
  {
   "cell_type": "code",
   "execution_count": 20,
   "id": "bacc88bb",
   "metadata": {},
   "outputs": [
    {
     "name": "stdout",
     "output_type": "stream",
     "text": [
      "Enter the marks:91\n",
      "Your grade is : A\n"
     ]
    }
   ],
   "source": [
    "marks=int(input(\"Enter the marks:\"))\n",
    "if marks>=90:\n",
    "    grade=\"A\"\n",
    "elif marks>=80:\n",
    "    grade=\"B\"\n",
    "elif marks>=70:\n",
    "    grade=\"C\"\n",
    "elif marks>=65:\n",
    "    grade=\"D\"\n",
    "else:\n",
    "    grade=\"E\"\n",
    "print(\"Your grade is :\",grade)"
   ]
  },
  {
   "cell_type": "code",
   "execution_count": null,
   "id": "1abe3b7f",
   "metadata": {},
   "outputs": [],
   "source": [
    "###34)You are writing a python application that displays all prime numbers from 20 to 200.\n",
    "which of the following code is proper tomeet our reqirements."
   ]
  },
  {
   "cell_type": "code",
   "execution_count": null,
   "id": "f4f9ce36",
   "metadata": {},
   "outputs": [],
   "source": [
    "p=2\n",
    "while p<=200:\n",
    "    is_prime=True\n",
    "    for i in range(2,p):\n",
    "        if p%i==0:\n",
    "            is_prime=False\n",
    "            break\n",
    "            \n",
    "    if is_prime==True:\n",
    "            print(p)\n",
    "    p=p+1\n",
    "        \n",
    "            "
   ]
  },
  {
   "cell_type": "code",
   "execution_count": 22,
   "id": "99667f37",
   "metadata": {},
   "outputs": [
    {
     "name": "stdout",
     "output_type": "stream",
     "text": [
      "2\n",
      "3\n",
      "5\n",
      "7\n",
      "11\n",
      "13\n",
      "17\n",
      "19\n",
      "23\n",
      "29\n",
      "31\n",
      "37\n",
      "41\n",
      "43\n",
      "47\n",
      "53\n",
      "59\n",
      "61\n",
      "67\n",
      "71\n",
      "73\n",
      "79\n",
      "83\n",
      "89\n",
      "97\n",
      "101\n",
      "103\n",
      "107\n",
      "109\n",
      "113\n",
      "127\n",
      "131\n",
      "137\n",
      "139\n",
      "149\n",
      "151\n",
      "157\n",
      "163\n",
      "167\n",
      "173\n",
      "179\n",
      "181\n",
      "191\n",
      "193\n",
      "197\n",
      "199\n"
     ]
    }
   ],
   "source": [
    "p=2\n",
    "while p<=200:\n",
    "    is_prime=True\n",
    "    for i in range(2,p):\n",
    "        if p%i==0:\n",
    "            is_prime=False\n",
    "            break\n",
    "            \n",
    "    if is_prime==True:\n",
    "            print(p)\n",
    "    p=p+1"
   ]
  },
  {
   "cell_type": "code",
   "execution_count": null,
   "id": "414e0af2",
   "metadata": {},
   "outputs": [],
   "source": []
  },
  {
   "cell_type": "code",
   "execution_count": null,
   "id": "afa2c359",
   "metadata": {},
   "outputs": [],
   "source": []
  },
  {
   "cell_type": "code",
   "execution_count": null,
   "id": "5dfd0bf5",
   "metadata": {},
   "outputs": [],
   "source": []
  }
 ],
 "metadata": {
  "kernelspec": {
   "display_name": "Python 3 (ipykernel)",
   "language": "python",
   "name": "python3"
  },
  "language_info": {
   "codemirror_mode": {
    "name": "ipython",
    "version": 3
   },
   "file_extension": ".py",
   "mimetype": "text/x-python",
   "name": "python",
   "nbconvert_exporter": "python",
   "pygments_lexer": "ipython3",
   "version": "3.9.7"
  }
 },
 "nbformat": 4,
 "nbformat_minor": 5
}
